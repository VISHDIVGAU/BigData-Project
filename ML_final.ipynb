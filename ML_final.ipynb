{
  "nbformat": 4,
  "nbformat_minor": 0,
  "metadata": {
    "colab": {
      "name": "ML_final.ipynb",
      "provenance": [],
      "collapsed_sections": []
    },
    "kernelspec": {
      "name": "python3",
      "display_name": "Python 3"
    },
    "language_info": {
      "name": "python"
    }
  },
  "cells": [
    {
      "cell_type": "code",
      "execution_count": null,
      "metadata": {
        "id": "hmTBc2hobmaq",
        "outputId": "1a6a70bc-3b30-422e-e265-da14bc0cfe1f",
        "colab": {
          "base_uri": "https://localhost:8080/"
        }
      },
      "outputs": [
        {
          "output_type": "stream",
          "name": "stdout",
          "text": [
            "Python 3.7.12\n"
          ]
        }
      ],
      "source": [
        "!python --version"
      ]
    },
    {
      "cell_type": "code",
      "source": [
        "pip install pyspark"
      ],
      "metadata": {
        "id": "RdVK0dWabqn5",
        "colab": {
          "base_uri": "https://localhost:8080/"
        },
        "outputId": "9a9fdf57-4402-49bc-a356-f9f9d689e90c"
      },
      "execution_count": null,
      "outputs": [
        {
          "output_type": "stream",
          "name": "stdout",
          "text": [
            "Collecting pyspark\n",
            "  Downloading pyspark-3.2.0.tar.gz (281.3 MB)\n",
            "\u001b[K     |████████████████████████████████| 281.3 MB 39 kB/s \n",
            "\u001b[?25hCollecting py4j==0.10.9.2\n",
            "  Downloading py4j-0.10.9.2-py2.py3-none-any.whl (198 kB)\n",
            "\u001b[K     |████████████████████████████████| 198 kB 62.8 MB/s \n",
            "\u001b[?25hBuilding wheels for collected packages: pyspark\n",
            "  Building wheel for pyspark (setup.py) ... \u001b[?25l\u001b[?25hdone\n",
            "  Created wheel for pyspark: filename=pyspark-3.2.0-py2.py3-none-any.whl size=281805912 sha256=18b9487a91ab9cc85caa46e595dd3dd7fdf6bae2293a9290e11249525e79f4fb\n",
            "  Stored in directory: /root/.cache/pip/wheels/0b/de/d2/9be5d59d7331c6c2a7c1b6d1a4f463ce107332b1ecd4e80718\n",
            "Successfully built pyspark\n",
            "Installing collected packages: py4j, pyspark\n",
            "Successfully installed py4j-0.10.9.2 pyspark-3.2.0\n"
          ]
        }
      ]
    },
    {
      "cell_type": "code",
      "source": [
        "pip install findspark"
      ],
      "metadata": {
        "colab": {
          "base_uri": "https://localhost:8080/"
        },
        "id": "_zz9FhhuerKh",
        "outputId": "154eed0a-ddec-45b2-a7c6-f840f1cee091"
      },
      "execution_count": null,
      "outputs": [
        {
          "output_type": "stream",
          "name": "stdout",
          "text": [
            "Collecting findspark\n",
            "  Downloading findspark-1.4.2-py2.py3-none-any.whl (4.2 kB)\n",
            "Installing collected packages: findspark\n",
            "Successfully installed findspark-1.4.2\n"
          ]
        }
      ]
    },
    {
      "cell_type": "code",
      "source": [
        "!apt-get install openjdk-8-jdk-headless -qq > /dev/null\n"
      ],
      "metadata": {
        "id": "dwaqntPjetJ_"
      },
      "execution_count": null,
      "outputs": []
    },
    {
      "cell_type": "code",
      "source": [
        "!wget -q https://dlcdn.apache.org/spark/spark-3.2.0/spark-3.2.0-bin-hadoop3.2.tgz\n"
      ],
      "metadata": {
        "id": "SHeLoOf-eu-g"
      },
      "execution_count": null,
      "outputs": []
    },
    {
      "cell_type": "code",
      "source": [
        "!ls"
      ],
      "metadata": {
        "colab": {
          "base_uri": "https://localhost:8080/"
        },
        "id": "g3l_OFXuewYd",
        "outputId": "f1d99196-06ea-4ce3-fe41-d5bace31df2b"
      },
      "execution_count": null,
      "outputs": [
        {
          "output_type": "stream",
          "name": "stdout",
          "text": [
            "sample_data  spark-3.2.0-bin-hadoop3.2.tgz\n"
          ]
        }
      ]
    },
    {
      "cell_type": "code",
      "source": [
        "!tar xf spark-3.2.0-bin-hadoop3.2.tgz\n"
      ],
      "metadata": {
        "id": "asO3IfQGexyO"
      },
      "execution_count": null,
      "outputs": []
    },
    {
      "cell_type": "code",
      "source": [
        "!pip install -q findspark\n"
      ],
      "metadata": {
        "id": "zDdgIDe_e0sS"
      },
      "execution_count": null,
      "outputs": []
    },
    {
      "cell_type": "code",
      "source": [
        "import os\n",
        "os.environ[\"JAVA_HOME\"] = \"/usr/lib/jvm/java-8-openjdk-amd64\"\n",
        "os.environ[\"SPARK_HOME\"] = \"/content/spark-3.2.0-bin-hadoop3.2\""
      ],
      "metadata": {
        "id": "hAg95yMae2T4"
      },
      "execution_count": null,
      "outputs": []
    },
    {
      "cell_type": "code",
      "source": [
        "import findspark\n",
        "findspark.init()"
      ],
      "metadata": {
        "id": "HMBpS79xfA9W"
      },
      "execution_count": null,
      "outputs": []
    },
    {
      "cell_type": "code",
      "source": [
        "findspark.find()\n"
      ],
      "metadata": {
        "colab": {
          "base_uri": "https://localhost:8080/",
          "height": 35
        },
        "id": "PisgzMxwfCSe",
        "outputId": "d1867d54-5683-4e44-e6bf-0457e451b1d7"
      },
      "execution_count": null,
      "outputs": [
        {
          "output_type": "execute_result",
          "data": {
            "application/vnd.google.colaboratory.intrinsic+json": {
              "type": "string"
            },
            "text/plain": [
              "'/content/spark-3.2.0-bin-hadoop3.2'"
            ]
          },
          "metadata": {},
          "execution_count": 11
        }
      ]
    },
    {
      "cell_type": "code",
      "source": [
        "import keras"
      ],
      "metadata": {
        "id": "UzPmuQ9gfDW1"
      },
      "execution_count": null,
      "outputs": []
    },
    {
      "cell_type": "code",
      "source": [
        "!pip install elephas"
      ],
      "metadata": {
        "colab": {
          "base_uri": "https://localhost:8080/",
          "height": 1000
        },
        "id": "M1WVFEKbfFpV",
        "outputId": "89e84bc3-3391-4c01-a490-17812ce90cf3"
      },
      "execution_count": null,
      "outputs": [
        {
          "output_type": "stream",
          "name": "stdout",
          "text": [
            "Collecting elephas\n",
            "  Downloading elephas-3.0.0.tar.gz (26 kB)\n",
            "Requirement already satisfied: cython in /usr/local/lib/python3.7/dist-packages (from elephas) (0.29.24)\n",
            "Requirement already satisfied: tensorflow!=2.2.*,>=2 in /usr/local/lib/python3.7/dist-packages (from elephas) (2.7.0)\n",
            "Requirement already satisfied: flask in /usr/local/lib/python3.7/dist-packages (from elephas) (1.1.4)\n",
            "Collecting h5py==3.3.0\n",
            "  Downloading h5py-3.3.0-cp37-cp37m-manylinux_2_12_x86_64.manylinux2010_x86_64.whl (4.1 MB)\n",
            "\u001b[K     |████████████████████████████████| 4.1 MB 7.6 MB/s \n",
            "\u001b[?25hCollecting pyspark<3.2\n",
            "  Downloading pyspark-3.1.2.tar.gz (212.4 MB)\n",
            "\u001b[K     |████████████████████████████████| 212.4 MB 61 kB/s \n",
            "\u001b[?25hRequirement already satisfied: numpy>=1.14.5 in /usr/local/lib/python3.7/dist-packages (from h5py==3.3.0->elephas) (1.19.5)\n",
            "Requirement already satisfied: cached-property in /usr/local/lib/python3.7/dist-packages (from h5py==3.3.0->elephas) (1.5.2)\n",
            "Collecting py4j==0.10.9\n",
            "  Downloading py4j-0.10.9-py2.py3-none-any.whl (198 kB)\n",
            "\u001b[K     |████████████████████████████████| 198 kB 66.8 MB/s \n",
            "\u001b[?25hRequirement already satisfied: typing-extensions>=3.6.6 in /usr/local/lib/python3.7/dist-packages (from tensorflow!=2.2.*,>=2->elephas) (3.10.0.2)\n",
            "Requirement already satisfied: google-pasta>=0.1.1 in /usr/local/lib/python3.7/dist-packages (from tensorflow!=2.2.*,>=2->elephas) (0.2.0)\n",
            "Requirement already satisfied: wrapt>=1.11.0 in /usr/local/lib/python3.7/dist-packages (from tensorflow!=2.2.*,>=2->elephas) (1.13.3)\n",
            "Requirement already satisfied: grpcio<2.0,>=1.24.3 in /usr/local/lib/python3.7/dist-packages (from tensorflow!=2.2.*,>=2->elephas) (1.42.0)\n",
            "Requirement already satisfied: libclang>=9.0.1 in /usr/local/lib/python3.7/dist-packages (from tensorflow!=2.2.*,>=2->elephas) (12.0.0)\n",
            "Requirement already satisfied: keras<2.8,>=2.7.0rc0 in /usr/local/lib/python3.7/dist-packages (from tensorflow!=2.2.*,>=2->elephas) (2.7.0)\n",
            "Requirement already satisfied: termcolor>=1.1.0 in /usr/local/lib/python3.7/dist-packages (from tensorflow!=2.2.*,>=2->elephas) (1.1.0)\n",
            "Requirement already satisfied: tensorflow-estimator<2.8,~=2.7.0rc0 in /usr/local/lib/python3.7/dist-packages (from tensorflow!=2.2.*,>=2->elephas) (2.7.0)\n",
            "Requirement already satisfied: absl-py>=0.4.0 in /usr/local/lib/python3.7/dist-packages (from tensorflow!=2.2.*,>=2->elephas) (0.12.0)\n",
            "Requirement already satisfied: keras-preprocessing>=1.1.1 in /usr/local/lib/python3.7/dist-packages (from tensorflow!=2.2.*,>=2->elephas) (1.1.2)\n",
            "Requirement already satisfied: wheel<1.0,>=0.32.0 in /usr/local/lib/python3.7/dist-packages (from tensorflow!=2.2.*,>=2->elephas) (0.37.0)\n",
            "Requirement already satisfied: gast<0.5.0,>=0.2.1 in /usr/local/lib/python3.7/dist-packages (from tensorflow!=2.2.*,>=2->elephas) (0.4.0)\n",
            "Requirement already satisfied: astunparse>=1.6.0 in /usr/local/lib/python3.7/dist-packages (from tensorflow!=2.2.*,>=2->elephas) (1.6.3)\n",
            "Requirement already satisfied: six>=1.12.0 in /usr/local/lib/python3.7/dist-packages (from tensorflow!=2.2.*,>=2->elephas) (1.15.0)\n",
            "Requirement already satisfied: tensorflow-io-gcs-filesystem>=0.21.0 in /usr/local/lib/python3.7/dist-packages (from tensorflow!=2.2.*,>=2->elephas) (0.22.0)\n",
            "Requirement already satisfied: opt-einsum>=2.3.2 in /usr/local/lib/python3.7/dist-packages (from tensorflow!=2.2.*,>=2->elephas) (3.3.0)\n",
            "Requirement already satisfied: tensorboard~=2.6 in /usr/local/lib/python3.7/dist-packages (from tensorflow!=2.2.*,>=2->elephas) (2.7.0)\n",
            "Requirement already satisfied: flatbuffers<3.0,>=1.12 in /usr/local/lib/python3.7/dist-packages (from tensorflow!=2.2.*,>=2->elephas) (2.0)\n",
            "Requirement already satisfied: protobuf>=3.9.2 in /usr/local/lib/python3.7/dist-packages (from tensorflow!=2.2.*,>=2->elephas) (3.17.3)\n",
            "Requirement already satisfied: google-auth<3,>=1.6.3 in /usr/local/lib/python3.7/dist-packages (from tensorboard~=2.6->tensorflow!=2.2.*,>=2->elephas) (1.35.0)\n",
            "Requirement already satisfied: tensorboard-plugin-wit>=1.6.0 in /usr/local/lib/python3.7/dist-packages (from tensorboard~=2.6->tensorflow!=2.2.*,>=2->elephas) (1.8.0)\n",
            "Requirement already satisfied: werkzeug>=0.11.15 in /usr/local/lib/python3.7/dist-packages (from tensorboard~=2.6->tensorflow!=2.2.*,>=2->elephas) (1.0.1)\n",
            "Requirement already satisfied: tensorboard-data-server<0.7.0,>=0.6.0 in /usr/local/lib/python3.7/dist-packages (from tensorboard~=2.6->tensorflow!=2.2.*,>=2->elephas) (0.6.1)\n",
            "Requirement already satisfied: markdown>=2.6.8 in /usr/local/lib/python3.7/dist-packages (from tensorboard~=2.6->tensorflow!=2.2.*,>=2->elephas) (3.3.6)\n",
            "Requirement already satisfied: requests<3,>=2.21.0 in /usr/local/lib/python3.7/dist-packages (from tensorboard~=2.6->tensorflow!=2.2.*,>=2->elephas) (2.23.0)\n",
            "Requirement already satisfied: google-auth-oauthlib<0.5,>=0.4.1 in /usr/local/lib/python3.7/dist-packages (from tensorboard~=2.6->tensorflow!=2.2.*,>=2->elephas) (0.4.6)\n",
            "Requirement already satisfied: setuptools>=41.0.0 in /usr/local/lib/python3.7/dist-packages (from tensorboard~=2.6->tensorflow!=2.2.*,>=2->elephas) (57.4.0)\n",
            "Requirement already satisfied: pyasn1-modules>=0.2.1 in /usr/local/lib/python3.7/dist-packages (from google-auth<3,>=1.6.3->tensorboard~=2.6->tensorflow!=2.2.*,>=2->elephas) (0.2.8)\n",
            "Requirement already satisfied: cachetools<5.0,>=2.0.0 in /usr/local/lib/python3.7/dist-packages (from google-auth<3,>=1.6.3->tensorboard~=2.6->tensorflow!=2.2.*,>=2->elephas) (4.2.4)\n",
            "Requirement already satisfied: rsa<5,>=3.1.4 in /usr/local/lib/python3.7/dist-packages (from google-auth<3,>=1.6.3->tensorboard~=2.6->tensorflow!=2.2.*,>=2->elephas) (4.8)\n",
            "Requirement already satisfied: requests-oauthlib>=0.7.0 in /usr/local/lib/python3.7/dist-packages (from google-auth-oauthlib<0.5,>=0.4.1->tensorboard~=2.6->tensorflow!=2.2.*,>=2->elephas) (1.3.0)\n",
            "Requirement already satisfied: importlib-metadata>=4.4 in /usr/local/lib/python3.7/dist-packages (from markdown>=2.6.8->tensorboard~=2.6->tensorflow!=2.2.*,>=2->elephas) (4.8.2)\n",
            "Requirement already satisfied: zipp>=0.5 in /usr/local/lib/python3.7/dist-packages (from importlib-metadata>=4.4->markdown>=2.6.8->tensorboard~=2.6->tensorflow!=2.2.*,>=2->elephas) (3.6.0)\n",
            "Requirement already satisfied: pyasn1<0.5.0,>=0.4.6 in /usr/local/lib/python3.7/dist-packages (from pyasn1-modules>=0.2.1->google-auth<3,>=1.6.3->tensorboard~=2.6->tensorflow!=2.2.*,>=2->elephas) (0.4.8)\n",
            "Requirement already satisfied: chardet<4,>=3.0.2 in /usr/local/lib/python3.7/dist-packages (from requests<3,>=2.21.0->tensorboard~=2.6->tensorflow!=2.2.*,>=2->elephas) (3.0.4)\n",
            "Requirement already satisfied: idna<3,>=2.5 in /usr/local/lib/python3.7/dist-packages (from requests<3,>=2.21.0->tensorboard~=2.6->tensorflow!=2.2.*,>=2->elephas) (2.10)\n",
            "Requirement already satisfied: urllib3!=1.25.0,!=1.25.1,<1.26,>=1.21.1 in /usr/local/lib/python3.7/dist-packages (from requests<3,>=2.21.0->tensorboard~=2.6->tensorflow!=2.2.*,>=2->elephas) (1.24.3)\n",
            "Requirement already satisfied: certifi>=2017.4.17 in /usr/local/lib/python3.7/dist-packages (from requests<3,>=2.21.0->tensorboard~=2.6->tensorflow!=2.2.*,>=2->elephas) (2021.10.8)\n",
            "Requirement already satisfied: oauthlib>=3.0.0 in /usr/local/lib/python3.7/dist-packages (from requests-oauthlib>=0.7.0->google-auth-oauthlib<0.5,>=0.4.1->tensorboard~=2.6->tensorflow!=2.2.*,>=2->elephas) (3.1.1)\n",
            "Requirement already satisfied: Jinja2<3.0,>=2.10.1 in /usr/local/lib/python3.7/dist-packages (from flask->elephas) (2.11.3)\n",
            "Requirement already satisfied: itsdangerous<2.0,>=0.24 in /usr/local/lib/python3.7/dist-packages (from flask->elephas) (1.1.0)\n",
            "Requirement already satisfied: click<8.0,>=5.1 in /usr/local/lib/python3.7/dist-packages (from flask->elephas) (7.1.2)\n",
            "Requirement already satisfied: MarkupSafe>=0.23 in /usr/local/lib/python3.7/dist-packages (from Jinja2<3.0,>=2.10.1->flask->elephas) (2.0.1)\n",
            "Building wheels for collected packages: elephas, pyspark\n",
            "  Building wheel for elephas (setup.py) ... \u001b[?25l\u001b[?25hdone\n",
            "  Created wheel for elephas: filename=elephas-3.0.0-py3-none-any.whl size=26263 sha256=dc939b7458e1dc2543afa37f450410e97d34c23211ffe5657f4741cf8a89a5f2\n",
            "  Stored in directory: /root/.cache/pip/wheels/88/06/57/dd7aa32c11babdde1eab768e76462e11447d017fdc7799ad83\n",
            "  Building wheel for pyspark (setup.py) ... \u001b[?25l\u001b[?25hdone\n",
            "  Created wheel for pyspark: filename=pyspark-3.1.2-py2.py3-none-any.whl size=212880768 sha256=67e2d7a5ec1a5114c7bcb9e64d391135163b349161280033dbad9a1d42955c74\n",
            "  Stored in directory: /root/.cache/pip/wheels/a5/0a/c1/9561f6fecb759579a7d863dcd846daaa95f598744e71b02c77\n",
            "Successfully built elephas pyspark\n",
            "Installing collected packages: py4j, h5py, pyspark, elephas\n",
            "  Attempting uninstall: py4j\n",
            "    Found existing installation: py4j 0.10.9.2\n",
            "    Uninstalling py4j-0.10.9.2:\n",
            "      Successfully uninstalled py4j-0.10.9.2\n",
            "  Attempting uninstall: h5py\n",
            "    Found existing installation: h5py 3.1.0\n",
            "    Uninstalling h5py-3.1.0:\n",
            "      Successfully uninstalled h5py-3.1.0\n",
            "  Attempting uninstall: pyspark\n",
            "    Found existing installation: pyspark 3.2.0\n",
            "    Uninstalling pyspark-3.2.0:\n",
            "      Successfully uninstalled pyspark-3.2.0\n",
            "Successfully installed elephas-3.0.0 h5py-3.3.0 py4j-0.10.9 pyspark-3.1.2\n"
          ]
        },
        {
          "output_type": "display_data",
          "data": {
            "application/vnd.colab-display-data+json": {
              "pip_warning": {
                "packages": [
                  "h5py"
                ]
              }
            }
          },
          "metadata": {}
        }
      ]
    },
    {
      "cell_type": "code",
      "source": [
        "from pyspark import SparkContext, SparkConf\n",
        "from pyspark.sql import SQLContext\n",
        "from pyspark.ml.feature import OneHotEncoder, StringIndexer, StandardScaler, VectorAssembler\n",
        "from pyspark.ml import Pipeline\n",
        "from pyspark.sql.functions import rand\n",
        "from pyspark.mllib.evaluation import RegressionMetrics\n",
        "\n",
        "# Keras / Deep Learning\n",
        "from keras.models import Sequential\n",
        "from keras.layers.core import Dense, Dropout, Activation\n",
        "from keras import optimizers, regularizers\n",
        "from tensorflow.keras.optimizers import Adam\n",
        "\n",
        "# Elephas for Deep Learning on Spark\n",
        "from elephas.ml_model import ElephasEstimator"
      ],
      "metadata": {
        "id": "-Blv9yFUfHX5"
      },
      "execution_count": null,
      "outputs": []
    },
    {
      "cell_type": "code",
      "source": [
        "conf = SparkConf().setAppName('Spark DL Tabular Pipeline').setMaster('local[6]')\n",
        "sc = SparkContext(conf=conf)\n",
        "sql_context = SQLContext(sc)\n",
        "sc"
      ],
      "metadata": {
        "colab": {
          "base_uri": "https://localhost:8080/",
          "height": 196
        },
        "id": "wjvzqb8KfkYW",
        "outputId": "390664bc-00cc-4075-9475-15ddc3b10829"
      },
      "execution_count": null,
      "outputs": [
        {
          "output_type": "execute_result",
          "data": {
            "text/html": [
              "\n",
              "        <div>\n",
              "            <p><b>SparkContext</b></p>\n",
              "\n",
              "            <p><a href=\"http://4d15dced8f27:4040\">Spark UI</a></p>\n",
              "\n",
              "            <dl>\n",
              "              <dt>Version</dt>\n",
              "                <dd><code>v3.1.2</code></dd>\n",
              "              <dt>Master</dt>\n",
              "                <dd><code>local[6]</code></dd>\n",
              "              <dt>AppName</dt>\n",
              "                <dd><code>Spark DL Tabular Pipeline</code></dd>\n",
              "            </dl>\n",
              "        </div>\n",
              "        "
            ],
            "text/plain": [
              "<SparkContext master=local[6] appName=Spark DL Tabular Pipeline>"
            ]
          },
          "metadata": {},
          "execution_count": 2
        }
      ]
    },
    {
      "cell_type": "code",
      "source": [
        "import requests\n",
        "\n",
        "#store the data we get as a dataframe\n",
        "import pandas as pd\n",
        "\n",
        "#convert the response as a strcuctured json\n",
        "import json\n",
        "\n",
        "#mathematical operations on lists\n",
        "import numpy as np\n",
        "\n",
        "#parse the datetimes we get from NOAA\n",
        "from datetime import datetime\n",
        "\n",
        "#add the access token you got from NOAA\n",
        "Token = 'IvdILeGUdWXOXaJLaDsnxstnwipVFCng'\n",
        "\n",
        "#Long Beach Airport station\n",
        "#station_id = 'GHCND:US1NYKN0025'#initialize lists to store data\n",
        "\n",
        "#initialize lists to store data\n",
        "dates_temp = []\n",
        "dates_prcp = []\n",
        "temps = []\n",
        "prcp = []\n",
        "\n",
        "#for each year from 2015-2019 ...\n",
        "for year in range(2015, 2022):\n",
        "    year = str(year)\n",
        "    print('working on year '+year)\n",
        "    \n",
        "    #make the api call - JFK Intl Airport\n",
        "    r = requests.get('https://www.ncdc.noaa.gov/cdo-web/api/v2/data?datasetid=GHCND&datatypeid=TAVG&limit=1000&stationid=GHCND:USW00094789&startdate='+year+'-01-01&enddate='+year+'-12-31', headers={'token':Token})\n",
        "    #load the api response as a json\n",
        "    d = json.loads(r.text)\n",
        "    #print(d)\n",
        "    #get all items in the response which are average temperature readings\n",
        "    avg_temps = [item for item in d['results'] if item['datatype']=='TAVG']\n",
        "    #get the date field from all average temperature readings\n",
        "    dates_temp += [item['date'] for item in avg_temps]\n",
        "    #get the actual average temperature from all average temperature readings\n",
        "    temps += [item['value'] for item in avg_temps]"
      ],
      "metadata": {
        "colab": {
          "base_uri": "https://localhost:8080/"
        },
        "id": "bq407FNbgyfh",
        "outputId": "8ce533e8-200d-4edb-d2f0-1ad77df77e6b"
      },
      "execution_count": null,
      "outputs": [
        {
          "output_type": "stream",
          "name": "stdout",
          "text": [
            "working on year 2015\n",
            "working on year 2016\n",
            "working on year 2017\n",
            "working on year 2018\n",
            "working on year 2019\n",
            "working on year 2020\n",
            "working on year 2021\n"
          ]
        }
      ]
    },
    {
      "cell_type": "code",
      "source": [
        "df_temp = pd.DataFrame()\n",
        "#populate date and average temperature fields (cast string date to datetime and convert temperature from tenths of Celsius to Fahrenheit)\n",
        "df_temp['date'] = [datetime.strptime(d, \"%Y-%m-%dT%H:%M:%S\") for d in dates_temp]\n",
        "df_temp['avgTemp'] = [float(v)/10.0*1.8 + 32 for v in temps]\n",
        "print(df_temp)"
      ],
      "metadata": {
        "id": "Ggv2vV6ShkrC",
        "colab": {
          "base_uri": "https://localhost:8080/"
        },
        "outputId": "6fe95779-9ef8-424f-ad99-4f9f0ff57173"
      },
      "execution_count": null,
      "outputs": [
        {
          "output_type": "stream",
          "name": "stdout",
          "text": [
            "           date  avgTemp\n",
            "0    2015-01-01    32.54\n",
            "1    2015-01-02    39.38\n",
            "2    2015-01-03    36.50\n",
            "3    2015-01-04    47.30\n",
            "4    2015-01-05    42.98\n",
            "...         ...      ...\n",
            "2533 2021-12-08    38.84\n",
            "2534 2021-12-09    35.78\n",
            "2535 2021-12-10    42.98\n",
            "2536 2021-12-11    48.92\n",
            "2537 2021-12-12    49.28\n",
            "\n",
            "[2538 rows x 2 columns]\n"
          ]
        }
      ]
    },
    {
      "cell_type": "code",
      "source": [
        "df_temp.to_csv('temp_2015_2021.csv',index=False)\n",
        "!ls\n",
        "!pwd"
      ],
      "metadata": {
        "colab": {
          "base_uri": "https://localhost:8080/"
        },
        "id": "Td0QdolQmkyQ",
        "outputId": "26ca4bdf-6894-4c4d-f1d2-d051f1aa812c"
      },
      "execution_count": null,
      "outputs": [
        {
          "output_type": "stream",
          "name": "stdout",
          "text": [
            "sample_data\t\t   spark-3.2.0-bin-hadoop3.2.tgz\n",
            "spark-3.2.0-bin-hadoop3.2  temp_2015_2021.csv\n",
            "/content\n"
          ]
        }
      ]
    },
    {
      "cell_type": "code",
      "source": [
        "from google.colab import files\n",
        "files.download(\"/content/temp_2015_2021.csv\")"
      ],
      "metadata": {
        "colab": {
          "base_uri": "https://localhost:8080/",
          "height": 17
        },
        "id": "PzEDuJSrnEBT",
        "outputId": "83b26cbc-55e0-4ff7-f682-b28f2ce61e6e"
      },
      "execution_count": null,
      "outputs": [
        {
          "output_type": "display_data",
          "data": {
            "application/javascript": [
              "\n",
              "    async function download(id, filename, size) {\n",
              "      if (!google.colab.kernel.accessAllowed) {\n",
              "        return;\n",
              "      }\n",
              "      const div = document.createElement('div');\n",
              "      const label = document.createElement('label');\n",
              "      label.textContent = `Downloading \"${filename}\": `;\n",
              "      div.appendChild(label);\n",
              "      const progress = document.createElement('progress');\n",
              "      progress.max = size;\n",
              "      div.appendChild(progress);\n",
              "      document.body.appendChild(div);\n",
              "\n",
              "      const buffers = [];\n",
              "      let downloaded = 0;\n",
              "\n",
              "      const channel = await google.colab.kernel.comms.open(id);\n",
              "      // Send a message to notify the kernel that we're ready.\n",
              "      channel.send({})\n",
              "\n",
              "      for await (const message of channel.messages) {\n",
              "        // Send a message to notify the kernel that we're ready.\n",
              "        channel.send({})\n",
              "        if (message.buffers) {\n",
              "          for (const buffer of message.buffers) {\n",
              "            buffers.push(buffer);\n",
              "            downloaded += buffer.byteLength;\n",
              "            progress.value = downloaded;\n",
              "          }\n",
              "        }\n",
              "      }\n",
              "      const blob = new Blob(buffers, {type: 'application/binary'});\n",
              "      const a = document.createElement('a');\n",
              "      a.href = window.URL.createObjectURL(blob);\n",
              "      a.download = filename;\n",
              "      div.appendChild(a);\n",
              "      a.click();\n",
              "      div.remove();\n",
              "    }\n",
              "  "
            ],
            "text/plain": [
              "<IPython.core.display.Javascript object>"
            ]
          },
          "metadata": {}
        },
        {
          "output_type": "display_data",
          "data": {
            "application/javascript": [
              "download(\"download_bf878029-c298-4d16-8f9e-19b7d38af5e4\", \"temp_2015_2021.csv\", 49525)"
            ],
            "text/plain": [
              "<IPython.core.display.Javascript object>"
            ]
          },
          "metadata": {}
        }
      ]
    },
    {
      "cell_type": "code",
      "source": [
        "from pyspark.sql import SparkSession\n",
        "\n",
        "spark = SparkSession\\\n",
        "        .builder\\\n",
        "        .appName(\"HW2\")\\\n",
        "        .getOrCreate()"
      ],
      "metadata": {
        "id": "KfzDlATDkzhF"
      },
      "execution_count": null,
      "outputs": []
    },
    {
      "cell_type": "code",
      "source": [
        "from pyspark.sql.functions import split\n",
        "sparkDF_temp=spark.createDataFrame(df_temp)\n",
        "sparkDF_temp = sparkDF_temp.withColumn('date1', split(sparkDF_temp['date'],' ').getItem(0)).drop('date')"
      ],
      "metadata": {
        "id": "Re1WS6cKkcxN"
      },
      "execution_count": null,
      "outputs": []
    },
    {
      "cell_type": "code",
      "source": [
        "from pyspark.sql.types import IntegerType\n",
        "sparkDF_temp = sparkDF_temp.withColumn('year',split(sparkDF_temp['date1'],'-').getItem(0).cast(IntegerType())) \\\n",
        ".withColumn('month',split(sparkDF_temp['date1'],'-').getItem(1).cast(IntegerType())) \\\n",
        ".withColumn('day',split(sparkDF_temp['date1'],'-').getItem(2).cast(IntegerType())).drop('date1')\n",
        "sparkDF_temp.show()"
      ],
      "metadata": {
        "id": "Eil8hxDEkitA",
        "colab": {
          "base_uri": "https://localhost:8080/"
        },
        "outputId": "7957f36f-5e79-4cc1-88a3-dd1eab904ff2"
      },
      "execution_count": null,
      "outputs": [
        {
          "output_type": "stream",
          "name": "stdout",
          "text": [
            "+------------------+----+-----+---+\n",
            "|           avgTemp|year|month|day|\n",
            "+------------------+----+-----+---+\n",
            "|             32.54|2015|    1|  1|\n",
            "|             39.38|2015|    1|  2|\n",
            "|              36.5|2015|    1|  3|\n",
            "|              47.3|2015|    1|  4|\n",
            "|42.980000000000004|2015|    1|  5|\n",
            "|              22.1|2015|    1|  6|\n",
            "|             21.92|2015|    1|  7|\n",
            "|             13.82|2015|    1|  8|\n",
            "|26.060000000000002|2015|    1|  9|\n",
            "|             22.46|2015|    1| 10|\n",
            "|              25.7|2015|    1| 11|\n",
            "|             36.14|2015|    1| 12|\n",
            "|             32.18|2015|    1| 13|\n",
            "|24.439999999999998|2015|    1| 14|\n",
            "|             30.92|2015|    1| 15|\n",
            "|             34.34|2015|    1| 16|\n",
            "|             23.18|2015|    1| 17|\n",
            "|             36.14|2015|    1| 18|\n",
            "|             39.74|2015|    1| 19|\n",
            "|39.019999999999996|2015|    1| 20|\n",
            "+------------------+----+-----+---+\n",
            "only showing top 20 rows\n",
            "\n"
          ]
        }
      ]
    },
    {
      "cell_type": "code",
      "source": [
        "df = sparkDF_temp\n",
        "df.printSchema()"
      ],
      "metadata": {
        "colab": {
          "base_uri": "https://localhost:8080/"
        },
        "id": "_KPu0PMjH7eB",
        "outputId": "4e2acbca-81e7-43e0-fe59-2638efefa209"
      },
      "execution_count": null,
      "outputs": [
        {
          "output_type": "stream",
          "name": "stdout",
          "text": [
            "root\n",
            " |-- avgTemp: double (nullable = true)\n",
            " |-- year: integer (nullable = true)\n",
            " |-- month: integer (nullable = true)\n",
            " |-- day: integer (nullable = true)\n",
            "\n"
          ]
        }
      ]
    },
    {
      "cell_type": "code",
      "source": [
        "from pyspark.sql.functions import when, lit\n",
        "df = df.withColumn(\"lockdown\", when((df.year == 2020) & (df.month == 3) & (df.day > 22), lit(1)).when((df.year == 2020) & (df.month > 3) & (df.month < 6), lit(1)).when((df.year == 2020) & (df.month == 6) & (df.day < 24), lit(1)).otherwise(0))"
      ],
      "metadata": {
        "id": "fQs9Fv21Bnh_"
      },
      "execution_count": null,
      "outputs": []
    },
    {
      "cell_type": "code",
      "source": [
        "df.show()"
      ],
      "metadata": {
        "colab": {
          "base_uri": "https://localhost:8080/"
        },
        "id": "Mv01FAoXHzWd",
        "outputId": "5ca4fc67-60ad-4063-d5d1-91a725c21ab5"
      },
      "execution_count": null,
      "outputs": [
        {
          "output_type": "stream",
          "name": "stdout",
          "text": [
            "+------------------+----+-----+---+--------+\n",
            "|           avgTemp|year|month|day|lockdown|\n",
            "+------------------+----+-----+---+--------+\n",
            "|             32.54|2015|    1|  1|       0|\n",
            "|             39.38|2015|    1|  2|       0|\n",
            "|              36.5|2015|    1|  3|       0|\n",
            "|              47.3|2015|    1|  4|       0|\n",
            "|42.980000000000004|2015|    1|  5|       0|\n",
            "|              22.1|2015|    1|  6|       0|\n",
            "|             21.92|2015|    1|  7|       0|\n",
            "|             13.82|2015|    1|  8|       0|\n",
            "|26.060000000000002|2015|    1|  9|       0|\n",
            "|             22.46|2015|    1| 10|       0|\n",
            "|              25.7|2015|    1| 11|       0|\n",
            "|             36.14|2015|    1| 12|       0|\n",
            "|             32.18|2015|    1| 13|       0|\n",
            "|24.439999999999998|2015|    1| 14|       0|\n",
            "|             30.92|2015|    1| 15|       0|\n",
            "|             34.34|2015|    1| 16|       0|\n",
            "|             23.18|2015|    1| 17|       0|\n",
            "|             36.14|2015|    1| 18|       0|\n",
            "|             39.74|2015|    1| 19|       0|\n",
            "|39.019999999999996|2015|    1| 20|       0|\n",
            "+------------------+----+-----+---+--------+\n",
            "only showing top 20 rows\n",
            "\n"
          ]
        }
      ]
    },
    {
      "cell_type": "code",
      "source": [
        "from datetime import date\n",
        "def date_diff(year,month,day):\n",
        "  date1 = date(2020,3,22)\n",
        "  date2 = date(year,month,day)\n",
        "  if ((year==2020 and month ==3 and day>22) or (year==2020 and month >3 and month<6) or (year == 2020 and month ==6 and day<24)):\n",
        "    return (date2-date1).days\n",
        "  else:\n",
        "    return 0"
      ],
      "metadata": {
        "id": "LuYBeW6PH93E"
      },
      "execution_count": null,
      "outputs": []
    },
    {
      "cell_type": "code",
      "source": [
        "from pyspark.sql.functions import udf\n",
        "from pyspark.sql.types import IntegerType\n",
        "udf_func = udf(date_diff, IntegerType())\n",
        "df = df.withColumn(\"lockdown_days\",udf_func(df.year,df.month,df.day))\n",
        "df.show()"
      ],
      "metadata": {
        "colab": {
          "base_uri": "https://localhost:8080/"
        },
        "id": "5OAlI8OwI7ZB",
        "outputId": "953aaa43-62fe-4a31-ffde-c86eb99ec990"
      },
      "execution_count": null,
      "outputs": [
        {
          "output_type": "stream",
          "name": "stdout",
          "text": [
            "+------------------+----+-----+---+--------+-------------+\n",
            "|           avgTemp|year|month|day|lockdown|lockdown_days|\n",
            "+------------------+----+-----+---+--------+-------------+\n",
            "|             32.54|2015|    1|  1|       0|            0|\n",
            "|             39.38|2015|    1|  2|       0|            0|\n",
            "|              36.5|2015|    1|  3|       0|            0|\n",
            "|              47.3|2015|    1|  4|       0|            0|\n",
            "|42.980000000000004|2015|    1|  5|       0|            0|\n",
            "|              22.1|2015|    1|  6|       0|            0|\n",
            "|             21.92|2015|    1|  7|       0|            0|\n",
            "|             13.82|2015|    1|  8|       0|            0|\n",
            "|26.060000000000002|2015|    1|  9|       0|            0|\n",
            "|             22.46|2015|    1| 10|       0|            0|\n",
            "|              25.7|2015|    1| 11|       0|            0|\n",
            "|             36.14|2015|    1| 12|       0|            0|\n",
            "|             32.18|2015|    1| 13|       0|            0|\n",
            "|24.439999999999998|2015|    1| 14|       0|            0|\n",
            "|             30.92|2015|    1| 15|       0|            0|\n",
            "|             34.34|2015|    1| 16|       0|            0|\n",
            "|             23.18|2015|    1| 17|       0|            0|\n",
            "|             36.14|2015|    1| 18|       0|            0|\n",
            "|             39.74|2015|    1| 19|       0|            0|\n",
            "|39.019999999999996|2015|    1| 20|       0|            0|\n",
            "+------------------+----+-----+---+--------+-------------+\n",
            "only showing top 20 rows\n",
            "\n"
          ]
        }
      ]
    },
    {
      "cell_type": "code",
      "source": [
        "df.filter( (df.year  == 2020) & (df.month  == 3) & (df.day > 20) ) \\\n",
        "    .show(truncate=False)"
      ],
      "metadata": {
        "colab": {
          "base_uri": "https://localhost:8080/"
        },
        "id": "rsAV9J8EoLVl",
        "outputId": "5e384c8b-160a-4e4c-a4b0-c57149c930c5"
      },
      "execution_count": null,
      "outputs": [
        {
          "output_type": "stream",
          "name": "stdout",
          "text": [
            "+------------------+----+-----+---+--------+-------------+\n",
            "|avgTemp           |year|month|day|lockdown|lockdown_days|\n",
            "+------------------+----+-----+---+--------+-------------+\n",
            "|54.14             |2020|3    |21 |0       |0            |\n",
            "|39.74             |2020|3    |22 |0       |0            |\n",
            "|38.66             |2020|3    |23 |1       |1            |\n",
            "|43.16             |2020|3    |24 |1       |2            |\n",
            "|43.879999999999995|2020|3    |25 |1       |3            |\n",
            "|43.7              |2020|3    |26 |1       |4            |\n",
            "|53.42             |2020|3    |27 |1       |5            |\n",
            "|48.74             |2020|3    |28 |1       |6            |\n",
            "|47.84             |2020|3    |29 |1       |7            |\n",
            "|45.32             |2020|3    |30 |1       |8            |\n",
            "|43.16             |2020|3    |31 |1       |9            |\n",
            "+------------------+----+-----+---+--------+-------------+\n",
            "\n"
          ]
        }
      ]
    },
    {
      "cell_type": "code",
      "source": [
        "stages = []\n",
        "num_features = ['year','month','day']\n",
        "predict = 'avgTemp'\n",
        "\n",
        "num_unscaled_diff_list = ['year','month','day','lockdown','lockdown_days']\n",
        "assembler = VectorAssembler(inputCols=num_unscaled_diff_list, outputCol=\"assembled_inputs\")\n",
        "\n",
        "stages = [assembler]\n",
        "stages"
      ],
      "metadata": {
        "id": "GVkjNSgams5-",
        "colab": {
          "base_uri": "https://localhost:8080/"
        },
        "outputId": "143157f3-6993-4797-8568-0e515916a165"
      },
      "execution_count": null,
      "outputs": [
        {
          "output_type": "execute_result",
          "data": {
            "text/plain": [
              "[VectorAssembler_473a1dd3bb52]"
            ]
          },
          "metadata": {},
          "execution_count": 15
        }
      ]
    },
    {
      "cell_type": "code",
      "source": [
        "# Set Pipeline\n",
        "pipeline = Pipeline(stages=stages)\n",
        "\n",
        "# Fit Pipeline to Data\n",
        "pipeline_model = pipeline.fit(df)\n",
        "\n",
        "# Transform Data using Fitted Pipeline\n",
        "df_transform = pipeline_model.transform(df)"
      ],
      "metadata": {
        "id": "NP8AkwifIiv-"
      },
      "execution_count": null,
      "outputs": []
    },
    {
      "cell_type": "code",
      "source": [
        "df_transform.show()"
      ],
      "metadata": {
        "id": "aW6acYUsIoaX",
        "colab": {
          "base_uri": "https://localhost:8080/"
        },
        "outputId": "11b90887-a4e6-4a28-fee8-f13b5c63ebcc"
      },
      "execution_count": null,
      "outputs": [
        {
          "output_type": "stream",
          "name": "stdout",
          "text": [
            "+------------------+----+-----+---+--------+-------------+--------------------+\n",
            "|           avgTemp|year|month|day|lockdown|lockdown_days|    assembled_inputs|\n",
            "+------------------+----+-----+---+--------+-------------+--------------------+\n",
            "|             32.54|2015|    1|  1|       0|            0|[2015.0,1.0,1.0,0...|\n",
            "|             39.38|2015|    1|  2|       0|            0|[2015.0,1.0,2.0,0...|\n",
            "|              36.5|2015|    1|  3|       0|            0|[2015.0,1.0,3.0,0...|\n",
            "|              47.3|2015|    1|  4|       0|            0|[2015.0,1.0,4.0,0...|\n",
            "|42.980000000000004|2015|    1|  5|       0|            0|[2015.0,1.0,5.0,0...|\n",
            "|              22.1|2015|    1|  6|       0|            0|[2015.0,1.0,6.0,0...|\n",
            "|             21.92|2015|    1|  7|       0|            0|[2015.0,1.0,7.0,0...|\n",
            "|             13.82|2015|    1|  8|       0|            0|[2015.0,1.0,8.0,0...|\n",
            "|26.060000000000002|2015|    1|  9|       0|            0|[2015.0,1.0,9.0,0...|\n",
            "|             22.46|2015|    1| 10|       0|            0|[2015.0,1.0,10.0,...|\n",
            "|              25.7|2015|    1| 11|       0|            0|[2015.0,1.0,11.0,...|\n",
            "|             36.14|2015|    1| 12|       0|            0|[2015.0,1.0,12.0,...|\n",
            "|             32.18|2015|    1| 13|       0|            0|[2015.0,1.0,13.0,...|\n",
            "|24.439999999999998|2015|    1| 14|       0|            0|[2015.0,1.0,14.0,...|\n",
            "|             30.92|2015|    1| 15|       0|            0|[2015.0,1.0,15.0,...|\n",
            "|             34.34|2015|    1| 16|       0|            0|[2015.0,1.0,16.0,...|\n",
            "|             23.18|2015|    1| 17|       0|            0|[2015.0,1.0,17.0,...|\n",
            "|             36.14|2015|    1| 18|       0|            0|[2015.0,1.0,18.0,...|\n",
            "|             39.74|2015|    1| 19|       0|            0|[2015.0,1.0,19.0,...|\n",
            "|39.019999999999996|2015|    1| 20|       0|            0|[2015.0,1.0,20.0,...|\n",
            "+------------------+----+-----+---+--------+-------------+--------------------+\n",
            "only showing top 20 rows\n",
            "\n"
          ]
        }
      ]
    },
    {
      "cell_type": "code",
      "source": [
        "type(df_transform)"
      ],
      "metadata": {
        "id": "UtpM9zkiIpgx",
        "colab": {
          "base_uri": "https://localhost:8080/"
        },
        "outputId": "a2d03b8f-43d8-4d35-87ce-140516ddc47c"
      },
      "execution_count": null,
      "outputs": [
        {
          "output_type": "execute_result",
          "data": {
            "text/plain": [
              "pyspark.sql.dataframe.DataFrame"
            ]
          },
          "metadata": {},
          "execution_count": 18
        }
      ]
    },
    {
      "cell_type": "code",
      "source": [
        "df_transform_fin = df_transform.select('assembled_inputs','avgTemp')\n",
        "df_transform_fin.limit(5).toPandas()"
      ],
      "metadata": {
        "id": "GbWuQbe3I1hC",
        "colab": {
          "base_uri": "https://localhost:8080/",
          "height": 206
        },
        "outputId": "526ae0cd-dd4d-4bfc-c77b-e04cfe177782"
      },
      "execution_count": null,
      "outputs": [
        {
          "output_type": "execute_result",
          "data": {
            "text/html": [
              "<div>\n",
              "<style scoped>\n",
              "    .dataframe tbody tr th:only-of-type {\n",
              "        vertical-align: middle;\n",
              "    }\n",
              "\n",
              "    .dataframe tbody tr th {\n",
              "        vertical-align: top;\n",
              "    }\n",
              "\n",
              "    .dataframe thead th {\n",
              "        text-align: right;\n",
              "    }\n",
              "</style>\n",
              "<table border=\"1\" class=\"dataframe\">\n",
              "  <thead>\n",
              "    <tr style=\"text-align: right;\">\n",
              "      <th></th>\n",
              "      <th>assembled_inputs</th>\n",
              "      <th>avgTemp</th>\n",
              "    </tr>\n",
              "  </thead>\n",
              "  <tbody>\n",
              "    <tr>\n",
              "      <th>0</th>\n",
              "      <td>[2015.0, 1.0, 1.0, 0.0, 0.0]</td>\n",
              "      <td>32.54</td>\n",
              "    </tr>\n",
              "    <tr>\n",
              "      <th>1</th>\n",
              "      <td>[2015.0, 1.0, 2.0, 0.0, 0.0]</td>\n",
              "      <td>39.38</td>\n",
              "    </tr>\n",
              "    <tr>\n",
              "      <th>2</th>\n",
              "      <td>[2015.0, 1.0, 3.0, 0.0, 0.0]</td>\n",
              "      <td>36.50</td>\n",
              "    </tr>\n",
              "    <tr>\n",
              "      <th>3</th>\n",
              "      <td>[2015.0, 1.0, 4.0, 0.0, 0.0]</td>\n",
              "      <td>47.30</td>\n",
              "    </tr>\n",
              "    <tr>\n",
              "      <th>4</th>\n",
              "      <td>[2015.0, 1.0, 5.0, 0.0, 0.0]</td>\n",
              "      <td>42.98</td>\n",
              "    </tr>\n",
              "  </tbody>\n",
              "</table>\n",
              "</div>"
            ],
            "text/plain": [
              "               assembled_inputs  avgTemp\n",
              "0  [2015.0, 1.0, 1.0, 0.0, 0.0]    32.54\n",
              "1  [2015.0, 1.0, 2.0, 0.0, 0.0]    39.38\n",
              "2  [2015.0, 1.0, 3.0, 0.0, 0.0]    36.50\n",
              "3  [2015.0, 1.0, 4.0, 0.0, 0.0]    47.30\n",
              "4  [2015.0, 1.0, 5.0, 0.0, 0.0]    42.98"
            ]
          },
          "metadata": {},
          "execution_count": 19
        }
      ]
    },
    {
      "cell_type": "code",
      "source": [
        "# Shuffle Data\n",
        "df_transform_fin = df_transform_fin.orderBy(rand())\n",
        "# Split Data into Train / Test Sets\n",
        "train_data, test_data = df_transform_fin.randomSplit([.8, .2],seed=1234)"
      ],
      "metadata": {
        "id": "2w0IiSTgI9ZN"
      },
      "execution_count": null,
      "outputs": []
    },
    {
      "cell_type": "code",
      "source": [
        "input_dim = 5\n",
        "\n",
        "model = Sequential()\n",
        "model.add(Dense(256, input_shape=(input_dim,), activity_regularizer=regularizers.l2(0.01)))\n",
        "model.add(Activation('relu'))\n",
        "model.add(Dropout(rate=0.3))\n",
        "model.add(Dense(256, activity_regularizer=regularizers.l2(0.01)))\n",
        "model.add(Activation('relu'))\n",
        "model.add(Dropout(rate=0.3))\n",
        "model.add(Dense(1))\n",
        "#model.add(Activation('sigmoid'))\n",
        "model.compile(loss='mse', optimizer='adam')"
      ],
      "metadata": {
        "id": "UD7PEOAjJImx"
      },
      "execution_count": null,
      "outputs": []
    },
    {
      "cell_type": "code",
      "source": [
        "model.summary()"
      ],
      "metadata": {
        "id": "YffT3iEkKRju",
        "colab": {
          "base_uri": "https://localhost:8080/"
        },
        "outputId": "66e56719-5246-4d7b-eaf3-c6f26fae4672"
      },
      "execution_count": null,
      "outputs": [
        {
          "output_type": "stream",
          "name": "stdout",
          "text": [
            "Model: \"sequential\"\n",
            "_________________________________________________________________\n",
            " Layer (type)                Output Shape              Param #   \n",
            "=================================================================\n",
            " dense (Dense)               (None, 256)               1536      \n",
            "                                                                 \n",
            " activation (Activation)     (None, 256)               0         \n",
            "                                                                 \n",
            " dropout (Dropout)           (None, 256)               0         \n",
            "                                                                 \n",
            " dense_1 (Dense)             (None, 256)               65792     \n",
            "                                                                 \n",
            " activation_1 (Activation)   (None, 256)               0         \n",
            "                                                                 \n",
            " dropout_1 (Dropout)         (None, 256)               0         \n",
            "                                                                 \n",
            " dense_2 (Dense)             (None, 1)                 257       \n",
            "                                                                 \n",
            "=================================================================\n",
            "Total params: 67,585\n",
            "Trainable params: 67,585\n",
            "Non-trainable params: 0\n",
            "_________________________________________________________________\n"
          ]
        }
      ]
    },
    {
      "cell_type": "code",
      "source": [
        "# Set and Serialize Optimizer\n",
        "optimizer_conf = Adam(learning_rate=0.01)\n",
        "opt_conf = optimizers.serialize(optimizer_conf)\n",
        "\n",
        "# Initialize SparkML Estimator and Get Settings\n",
        "estimator = ElephasEstimator()\n",
        "estimator.setFeaturesCol(\"assembled_inputs\")\n",
        "estimator.setLabelCol(\"avgTemp\")\n",
        "estimator.set_keras_model_config(model.to_json())\n",
        "estimator.set_categorical_labels(False)\n",
        "#estimator.set_nb_classes(nb_classes)\n",
        "estimator.set_num_workers(1)\n",
        "estimator.set_epochs(25) \n",
        "estimator.set_batch_size(64)\n",
        "estimator.set_verbosity(1)\n",
        "estimator.set_validation_split(0.10)\n",
        "estimator.set_optimizer_config(opt_conf)\n",
        "estimator.set_mode(\"synchronous\")\n",
        "estimator.set_loss(\"mse\")\n",
        "estimator.set_metrics(['acc'])"
      ],
      "metadata": {
        "id": "Q_-0Hch9KSrk",
        "colab": {
          "base_uri": "https://localhost:8080/"
        },
        "outputId": "7612276f-e78c-40f6-d26e-7d1103bf273d"
      },
      "execution_count": null,
      "outputs": [
        {
          "output_type": "execute_result",
          "data": {
            "text/plain": [
              "ElephasEstimator_e7caa163d1ed"
            ]
          },
          "metadata": {},
          "execution_count": 23
        }
      ]
    },
    {
      "cell_type": "code",
      "source": [
        "dl_pipeline = Pipeline(stages=[estimator])"
      ],
      "metadata": {
        "id": "P1FhRBpGMb7x"
      },
      "execution_count": null,
      "outputs": []
    },
    {
      "cell_type": "code",
      "source": [
        "def dl_pipeline_fit_score_results(dl_pipeline=dl_pipeline,\n",
        "                                  train_data=train_data,\n",
        "                                  test_data=test_data,\n",
        "                                  label='label_index'):\n",
        "    \n",
        "    fit_dl_pipeline = dl_pipeline.fit(train_data)\n",
        "    pred_train = fit_dl_pipeline.transform(train_data)\n",
        "    pred_test = fit_dl_pipeline.transform(test_data)\n",
        "    return (pred_train, pred_test, fit_dl_pipeline)\n",
        "    #pnl_train = pred_train.select(label, \"prediction\")\n",
        "    #pnl_test = pred_test.select(label, \"prediction\")\n",
        "    \n",
        "    #pred_and_label_train = pnl_train.rdd.map(lambda row: (row[label], row['prediction']))\n",
        "    #pred_and_label_test = pnl_test.rdd.map(lambda row: (row[label], row['prediction']))\n",
        "    \n",
        "    #metrics_train = MulticlassMetrics(pred_and_label_train)\n",
        "    #metrics_test = MulticlassMetrics(pred_and_label_test)\n",
        "    \n",
        "    #print(\"Training Data Accuracy: {}\".format(round(metrics_train.precision(),4)))\n",
        "    #print(\"Training Data Confusion Matrix\")\n",
        "    #display(pnl_train.crosstab('avgTemp', 'prediction').toPandas())\n",
        "    \n",
        "    #print(\"\\nTest Data Accuracy: {}\".format(round(metrics_test.precision(),4)))\n",
        "    #print(\"Test Data Confusion Matrix\")\n",
        "    #display(pnl_test.crosstab('avgTemp', 'prediction').toPandas())"
      ],
      "metadata": {
        "id": "xC1z5OYdM8O4"
      },
      "execution_count": null,
      "outputs": []
    },
    {
      "cell_type": "code",
      "source": [
        "a,b,c = dl_pipeline_fit_score_results(dl_pipeline=dl_pipeline,\n",
        "                              train_data=train_data,\n",
        "                              test_data=test_data,\n",
        "                              label='avgTemp');"
      ],
      "metadata": {
        "id": "CNEzMlLQNMy7",
        "colab": {
          "base_uri": "https://localhost:8080/"
        },
        "outputId": "a7f37bc7-d32b-4aed-88a0-e7998cce7087"
      },
      "execution_count": null,
      "outputs": [
        {
          "output_type": "stream",
          "name": "stdout",
          "text": [
            ">>> Fit model\n",
            ">>> Synchronous training complete.\n"
          ]
        }
      ]
    },
    {
      "cell_type": "code",
      "source": [
        "#from elephas.spark_model import SparkMLlibModel\n",
        "a.show()"
      ],
      "metadata": {
        "id": "xX1odMvYNOuK",
        "colab": {
          "base_uri": "https://localhost:8080/"
        },
        "outputId": "a85a368d-cb40-4df5-c26d-9c44ad0ac144"
      },
      "execution_count": null,
      "outputs": [
        {
          "output_type": "stream",
          "name": "stdout",
          "text": [
            "+--------------------+------------------+------------------+\n",
            "|    assembled_inputs|           avgTemp|        prediction|\n",
            "+--------------------+------------------+------------------+\n",
            "|[2015.0,1.0,1.0,0...|             32.54| 46.12065124511719|\n",
            "|[2015.0,1.0,3.0,0...|              36.5|45.956199645996094|\n",
            "|[2015.0,1.0,4.0,0...|              47.3| 45.91920471191406|\n",
            "|[2015.0,1.0,6.0,0...|              22.1|  45.9461669921875|\n",
            "|[2015.0,1.0,7.0,0...|             21.92| 45.98291778564453|\n",
            "|[2015.0,1.0,8.0,0...|             13.82| 46.01304244995117|\n",
            "|[2015.0,1.0,9.0,0...|26.060000000000002|46.065834045410156|\n",
            "|[2015.0,1.0,10.0,...|             22.46| 46.12055206298828|\n",
            "|[2015.0,1.0,11.0,...|              25.7| 46.16706466674805|\n",
            "|[2015.0,1.0,12.0,...|             36.14| 46.19855499267578|\n",
            "|[2015.0,1.0,13.0,...|             32.18| 46.19550323486328|\n",
            "|[2015.0,1.0,14.0,...|24.439999999999998| 46.18675994873047|\n",
            "|[2015.0,1.0,15.0,...|             30.92| 46.14360809326172|\n",
            "|[2015.0,1.0,16.0,...|             34.34|46.098350524902344|\n",
            "|[2015.0,1.0,17.0,...|             23.18|46.051055908203125|\n",
            "|[2015.0,1.0,18.0,...|             36.14| 46.04096984863281|\n",
            "|[2015.0,1.0,19.0,...|             39.74| 46.05299758911133|\n",
            "|[2015.0,1.0,20.0,...|39.019999999999996| 46.06438064575195|\n",
            "|[2015.0,1.0,21.0,...|             32.36| 46.06938934326172|\n",
            "|[2015.0,1.0,23.0,...|             33.26|46.064849853515625|\n",
            "+--------------------+------------------+------------------+\n",
            "only showing top 20 rows\n",
            "\n"
          ]
        }
      ]
    },
    {
      "cell_type": "code",
      "source": [
        "b.show()"
      ],
      "metadata": {
        "id": "0fxF25z_3Ytv",
        "colab": {
          "base_uri": "https://localhost:8080/"
        },
        "outputId": "076464c4-ae3e-4570-e0cd-bb95b8e44f9a"
      },
      "execution_count": null,
      "outputs": [
        {
          "output_type": "stream",
          "name": "stdout",
          "text": [
            "+--------------------+------------------+------------------+\n",
            "|    assembled_inputs|           avgTemp|        prediction|\n",
            "+--------------------+------------------+------------------+\n",
            "|[2015.0,1.0,2.0,0...|             39.38|46.036136627197266|\n",
            "|[2015.0,1.0,5.0,0...|42.980000000000004| 45.91567611694336|\n",
            "|[2015.0,1.0,22.0,...|             35.42| 46.06187057495117|\n",
            "|[2015.0,1.0,25.0,...|             38.66|  46.1011848449707|\n",
            "|[2015.0,1.0,26.0,...|              28.4|46.109901428222656|\n",
            "|[2015.0,1.0,27.0,...|              24.8|46.100433349609375|\n",
            "|[2015.0,1.0,28.0,...|             23.54| 46.09267807006836|\n",
            "|[2015.0,2.0,6.0,0...|             18.68| 47.52458190917969|\n",
            "|[2015.0,2.0,15.0,...|             21.38| 47.51694107055664|\n",
            "|[2015.0,2.0,17.0,...|20.479999999999997| 47.40709686279297|\n",
            "|[2015.0,2.0,22.0,...|             34.16|  47.2611083984375|\n",
            "|[2015.0,2.0,26.0,...|             27.86| 47.14141082763672|\n",
            "|[2015.0,2.0,27.0,...|             24.98| 47.12146759033203|\n",
            "|[2015.0,2.0,28.0,...|             23.18|47.101158142089844|\n",
            "|[2015.0,3.0,5.0,0...|             32.72| 49.00448226928711|\n",
            "|[2015.0,3.0,8.0,0...|             38.84|  49.1517219543457|\n",
            "|[2015.0,3.0,13.0,...|             37.04| 48.90959167480469|\n",
            "|[2015.0,3.0,14.0,...|42.620000000000005| 48.84087371826172|\n",
            "|[2015.0,3.0,18.0,...|             35.24|48.519798278808594|\n",
            "|[2015.0,3.0,26.0,...|             45.32| 48.05818557739258|\n",
            "+--------------------+------------------+------------------+\n",
            "only showing top 20 rows\n",
            "\n"
          ]
        }
      ]
    },
    {
      "cell_type": "code",
      "source": [
        "import pandas as pd\n",
        "df_pred1 = pd.DataFrame({'date' : pd.date_range(start = '2022-01-01',end = '2022-12-31') , 'lockdown' : [1]*365})\n",
        "df_pred2 = pd.DataFrame({'date' : pd.date_range(start = '2022-01-01',end = '2022-12-31') , 'lockdown' : [0]*365,'lockdown_days':[0]*365})"
      ],
      "metadata": {
        "id": "HgY4tReoqOcZ"
      },
      "execution_count": null,
      "outputs": []
    },
    {
      "cell_type": "code",
      "source": [
        "from pyspark.sql.functions import split\n",
        "sparkDFpred1=spark.createDataFrame(df_pred1)\n",
        "sparkDFpred1 = sparkDFpred1.withColumn('date1', split(sparkDFpred1['date'],' ').getItem(0)).drop('date')\n",
        "sparkDFpred2=spark.createDataFrame(df_pred2)\n",
        "sparkDFpred2 = sparkDFpred2.withColumn('date1', split(sparkDFpred2['date'],' ').getItem(0)).drop('date')"
      ],
      "metadata": {
        "id": "Sl9_ZXr2bbXp"
      },
      "execution_count": null,
      "outputs": []
    },
    {
      "cell_type": "code",
      "source": [
        "from pyspark.sql.types import IntegerType\n",
        "sparkDFpred1 = sparkDFpred1.withColumn('year',split(sparkDFpred1['date1'],'-').getItem(0).cast(IntegerType())) \\\n",
        ".withColumn('month',split(sparkDFpred1['date1'],'-').getItem(1).cast(IntegerType())) \\\n",
        ".withColumn('day',split(sparkDFpred1['date1'],'-').getItem(2).cast(IntegerType())).drop('date1')\n",
        "sparkDFpred1 = sparkDFpred1.withColumn('lockdown_days',sparkDFpred1['day'])\n",
        "sparkDFpred1.show()\n",
        "\n",
        "sparkDFpred2 = sparkDFpred2.withColumn('year',split(sparkDFpred2['date1'],'-').getItem(0).cast(IntegerType())) \\\n",
        ".withColumn('month',split(sparkDFpred2['date1'],'-').getItem(1).cast(IntegerType())) \\\n",
        ".withColumn('day',split(sparkDFpred2['date1'],'-').getItem(2).cast(IntegerType())).drop('date1')\n",
        "sparkDFpred2.show()"
      ],
      "metadata": {
        "colab": {
          "base_uri": "https://localhost:8080/"
        },
        "id": "NhwbdwrkdTc9",
        "outputId": "eef27847-648c-4627-bc90-e110ae33a3a3"
      },
      "execution_count": null,
      "outputs": [
        {
          "output_type": "stream",
          "name": "stdout",
          "text": [
            "+--------+----+-----+---+-------------+\n",
            "|lockdown|year|month|day|lockdown_days|\n",
            "+--------+----+-----+---+-------------+\n",
            "|       1|2022|    1|  1|            1|\n",
            "|       1|2022|    1|  2|            2|\n",
            "|       1|2022|    1|  3|            3|\n",
            "|       1|2022|    1|  4|            4|\n",
            "|       1|2022|    1|  5|            5|\n",
            "|       1|2022|    1|  6|            6|\n",
            "|       1|2022|    1|  7|            7|\n",
            "|       1|2022|    1|  8|            8|\n",
            "|       1|2022|    1|  9|            9|\n",
            "|       1|2022|    1| 10|           10|\n",
            "|       1|2022|    1| 11|           11|\n",
            "|       1|2022|    1| 12|           12|\n",
            "|       1|2022|    1| 13|           13|\n",
            "|       1|2022|    1| 14|           14|\n",
            "|       1|2022|    1| 15|           15|\n",
            "|       1|2022|    1| 16|           16|\n",
            "|       1|2022|    1| 17|           17|\n",
            "|       1|2022|    1| 18|           18|\n",
            "|       1|2022|    1| 19|           19|\n",
            "|       1|2022|    1| 20|           20|\n",
            "+--------+----+-----+---+-------------+\n",
            "only showing top 20 rows\n",
            "\n",
            "+--------+-------------+----+-----+---+\n",
            "|lockdown|lockdown_days|year|month|day|\n",
            "+--------+-------------+----+-----+---+\n",
            "|       0|            0|2022|    1|  1|\n",
            "|       0|            0|2022|    1|  2|\n",
            "|       0|            0|2022|    1|  3|\n",
            "|       0|            0|2022|    1|  4|\n",
            "|       0|            0|2022|    1|  5|\n",
            "|       0|            0|2022|    1|  6|\n",
            "|       0|            0|2022|    1|  7|\n",
            "|       0|            0|2022|    1|  8|\n",
            "|       0|            0|2022|    1|  9|\n",
            "|       0|            0|2022|    1| 10|\n",
            "|       0|            0|2022|    1| 11|\n",
            "|       0|            0|2022|    1| 12|\n",
            "|       0|            0|2022|    1| 13|\n",
            "|       0|            0|2022|    1| 14|\n",
            "|       0|            0|2022|    1| 15|\n",
            "|       0|            0|2022|    1| 16|\n",
            "|       0|            0|2022|    1| 17|\n",
            "|       0|            0|2022|    1| 18|\n",
            "|       0|            0|2022|    1| 19|\n",
            "|       0|            0|2022|    1| 20|\n",
            "+--------+-------------+----+-----+---+\n",
            "only showing top 20 rows\n",
            "\n"
          ]
        }
      ]
    },
    {
      "cell_type": "code",
      "source": [
        "df1 = sparkDFpred1\n",
        "df2 = sparkDFpred2\n",
        "# Fit Pipeline to Data\n",
        "pipeline_model = pipeline.fit(df1)\n",
        "\n",
        "# Transform Data using Fitted Pipeline\n",
        "df1 = pipeline_model.transform(df1)\n",
        "df2 = pipeline_model.transform(df2)\n",
        "df1.show()\n",
        "df2.show()"
      ],
      "metadata": {
        "colab": {
          "base_uri": "https://localhost:8080/"
        },
        "id": "zxA1UK34dhzu",
        "outputId": "d7639eb7-02c8-42a7-b0c4-f2240c7de862"
      },
      "execution_count": null,
      "outputs": [
        {
          "output_type": "stream",
          "name": "stdout",
          "text": [
            "+--------+----+-----+---+-------------+--------------------+\n",
            "|lockdown|year|month|day|lockdown_days|    assembled_inputs|\n",
            "+--------+----+-----+---+-------------+--------------------+\n",
            "|       1|2022|    1|  1|            1|[2022.0,1.0,1.0,1...|\n",
            "|       1|2022|    1|  2|            2|[2022.0,1.0,2.0,1...|\n",
            "|       1|2022|    1|  3|            3|[2022.0,1.0,3.0,1...|\n",
            "|       1|2022|    1|  4|            4|[2022.0,1.0,4.0,1...|\n",
            "|       1|2022|    1|  5|            5|[2022.0,1.0,5.0,1...|\n",
            "|       1|2022|    1|  6|            6|[2022.0,1.0,6.0,1...|\n",
            "|       1|2022|    1|  7|            7|[2022.0,1.0,7.0,1...|\n",
            "|       1|2022|    1|  8|            8|[2022.0,1.0,8.0,1...|\n",
            "|       1|2022|    1|  9|            9|[2022.0,1.0,9.0,1...|\n",
            "|       1|2022|    1| 10|           10|[2022.0,1.0,10.0,...|\n",
            "|       1|2022|    1| 11|           11|[2022.0,1.0,11.0,...|\n",
            "|       1|2022|    1| 12|           12|[2022.0,1.0,12.0,...|\n",
            "|       1|2022|    1| 13|           13|[2022.0,1.0,13.0,...|\n",
            "|       1|2022|    1| 14|           14|[2022.0,1.0,14.0,...|\n",
            "|       1|2022|    1| 15|           15|[2022.0,1.0,15.0,...|\n",
            "|       1|2022|    1| 16|           16|[2022.0,1.0,16.0,...|\n",
            "|       1|2022|    1| 17|           17|[2022.0,1.0,17.0,...|\n",
            "|       1|2022|    1| 18|           18|[2022.0,1.0,18.0,...|\n",
            "|       1|2022|    1| 19|           19|[2022.0,1.0,19.0,...|\n",
            "|       1|2022|    1| 20|           20|[2022.0,1.0,20.0,...|\n",
            "+--------+----+-----+---+-------------+--------------------+\n",
            "only showing top 20 rows\n",
            "\n",
            "+--------+-------------+----+-----+---+--------------------+\n",
            "|lockdown|lockdown_days|year|month|day|    assembled_inputs|\n",
            "+--------+-------------+----+-----+---+--------------------+\n",
            "|       0|            0|2022|    1|  1|[2022.0,1.0,1.0,0...|\n",
            "|       0|            0|2022|    1|  2|[2022.0,1.0,2.0,0...|\n",
            "|       0|            0|2022|    1|  3|[2022.0,1.0,3.0,0...|\n",
            "|       0|            0|2022|    1|  4|[2022.0,1.0,4.0,0...|\n",
            "|       0|            0|2022|    1|  5|[2022.0,1.0,5.0,0...|\n",
            "|       0|            0|2022|    1|  6|[2022.0,1.0,6.0,0...|\n",
            "|       0|            0|2022|    1|  7|[2022.0,1.0,7.0,0...|\n",
            "|       0|            0|2022|    1|  8|[2022.0,1.0,8.0,0...|\n",
            "|       0|            0|2022|    1|  9|[2022.0,1.0,9.0,0...|\n",
            "|       0|            0|2022|    1| 10|[2022.0,1.0,10.0,...|\n",
            "|       0|            0|2022|    1| 11|[2022.0,1.0,11.0,...|\n",
            "|       0|            0|2022|    1| 12|[2022.0,1.0,12.0,...|\n",
            "|       0|            0|2022|    1| 13|[2022.0,1.0,13.0,...|\n",
            "|       0|            0|2022|    1| 14|[2022.0,1.0,14.0,...|\n",
            "|       0|            0|2022|    1| 15|[2022.0,1.0,15.0,...|\n",
            "|       0|            0|2022|    1| 16|[2022.0,1.0,16.0,...|\n",
            "|       0|            0|2022|    1| 17|[2022.0,1.0,17.0,...|\n",
            "|       0|            0|2022|    1| 18|[2022.0,1.0,18.0,...|\n",
            "|       0|            0|2022|    1| 19|[2022.0,1.0,19.0,...|\n",
            "|       0|            0|2022|    1| 20|[2022.0,1.0,20.0,...|\n",
            "+--------+-------------+----+-----+---+--------------------+\n",
            "only showing top 20 rows\n",
            "\n"
          ]
        }
      ]
    },
    {
      "cell_type": "code",
      "source": [
        "df1 = df1.select('assembled_inputs')\n",
        "df2 = df2.select('assembled_inputs')"
      ],
      "metadata": {
        "id": "Vc-WBFfvgJOu"
      },
      "execution_count": null,
      "outputs": []
    },
    {
      "cell_type": "code",
      "source": [
        "df1.show()\n",
        "df2.show()"
      ],
      "metadata": {
        "colab": {
          "base_uri": "https://localhost:8080/"
        },
        "id": "OJ5rDbbAgYu_",
        "outputId": "d22839fb-017a-4a6f-c175-934ea3a719e8"
      },
      "execution_count": null,
      "outputs": [
        {
          "output_type": "stream",
          "name": "stdout",
          "text": [
            "+--------------------+\n",
            "|    assembled_inputs|\n",
            "+--------------------+\n",
            "|[2022.0,1.0,1.0,1...|\n",
            "|[2022.0,1.0,2.0,1...|\n",
            "|[2022.0,1.0,3.0,1...|\n",
            "|[2022.0,1.0,4.0,1...|\n",
            "|[2022.0,1.0,5.0,1...|\n",
            "|[2022.0,1.0,6.0,1...|\n",
            "|[2022.0,1.0,7.0,1...|\n",
            "|[2022.0,1.0,8.0,1...|\n",
            "|[2022.0,1.0,9.0,1...|\n",
            "|[2022.0,1.0,10.0,...|\n",
            "|[2022.0,1.0,11.0,...|\n",
            "|[2022.0,1.0,12.0,...|\n",
            "|[2022.0,1.0,13.0,...|\n",
            "|[2022.0,1.0,14.0,...|\n",
            "|[2022.0,1.0,15.0,...|\n",
            "|[2022.0,1.0,16.0,...|\n",
            "|[2022.0,1.0,17.0,...|\n",
            "|[2022.0,1.0,18.0,...|\n",
            "|[2022.0,1.0,19.0,...|\n",
            "|[2022.0,1.0,20.0,...|\n",
            "+--------------------+\n",
            "only showing top 20 rows\n",
            "\n",
            "+--------------------+\n",
            "|    assembled_inputs|\n",
            "+--------------------+\n",
            "|[2022.0,1.0,1.0,0...|\n",
            "|[2022.0,1.0,2.0,0...|\n",
            "|[2022.0,1.0,3.0,0...|\n",
            "|[2022.0,1.0,4.0,0...|\n",
            "|[2022.0,1.0,5.0,0...|\n",
            "|[2022.0,1.0,6.0,0...|\n",
            "|[2022.0,1.0,7.0,0...|\n",
            "|[2022.0,1.0,8.0,0...|\n",
            "|[2022.0,1.0,9.0,0...|\n",
            "|[2022.0,1.0,10.0,...|\n",
            "|[2022.0,1.0,11.0,...|\n",
            "|[2022.0,1.0,12.0,...|\n",
            "|[2022.0,1.0,13.0,...|\n",
            "|[2022.0,1.0,14.0,...|\n",
            "|[2022.0,1.0,15.0,...|\n",
            "|[2022.0,1.0,16.0,...|\n",
            "|[2022.0,1.0,17.0,...|\n",
            "|[2022.0,1.0,18.0,...|\n",
            "|[2022.0,1.0,19.0,...|\n",
            "|[2022.0,1.0,20.0,...|\n",
            "+--------------------+\n",
            "only showing top 20 rows\n",
            "\n"
          ]
        }
      ]
    },
    {
      "cell_type": "code",
      "source": [
        "x = c.transform(df1)\n",
        "x.show()#with lockdown\n",
        "y = c.transform(df2)\n",
        "y.show()#w/o lockdown"
      ],
      "metadata": {
        "colab": {
          "base_uri": "https://localhost:8080/"
        },
        "id": "NC8SYWtVgaJJ",
        "outputId": "f99ed2cb-8a16-418c-f6d6-b8e9fbb00c12"
      },
      "execution_count": null,
      "outputs": [
        {
          "output_type": "stream",
          "name": "stdout",
          "text": [
            "+--------------------+------------------+\n",
            "|    assembled_inputs|        prediction|\n",
            "+--------------------+------------------+\n",
            "|[2022.0,1.0,1.0,1...|    45.51806640625|\n",
            "|[2022.0,1.0,2.0,1...| 45.32127380371094|\n",
            "|[2022.0,1.0,3.0,1...| 45.14875411987305|\n",
            "|[2022.0,1.0,4.0,1...|45.055397033691406|\n",
            "|[2022.0,1.0,5.0,1...| 45.01095199584961|\n",
            "|[2022.0,1.0,6.0,1...| 44.93840026855469|\n",
            "|[2022.0,1.0,7.0,1...| 44.84392547607422|\n",
            "|[2022.0,1.0,8.0,1...|44.796180725097656|\n",
            "|[2022.0,1.0,9.0,1...|44.743743896484375|\n",
            "|[2022.0,1.0,10.0,...|44.660160064697266|\n",
            "|[2022.0,1.0,11.0,...|44.500213623046875|\n",
            "|[2022.0,1.0,12.0,...| 44.31977844238281|\n",
            "|[2022.0,1.0,13.0,...|44.152976989746094|\n",
            "|[2022.0,1.0,14.0,...| 43.98039245605469|\n",
            "|[2022.0,1.0,15.0,...|43.798072814941406|\n",
            "|[2022.0,1.0,16.0,...| 43.60568618774414|\n",
            "|[2022.0,1.0,17.0,...| 43.43058776855469|\n",
            "|[2022.0,1.0,18.0,...|43.255096435546875|\n",
            "|[2022.0,1.0,19.0,...|43.070404052734375|\n",
            "|[2022.0,1.0,20.0,...| 42.88470458984375|\n",
            "+--------------------+------------------+\n",
            "only showing top 20 rows\n",
            "\n",
            "+--------------------+------------------+\n",
            "|    assembled_inputs|        prediction|\n",
            "+--------------------+------------------+\n",
            "|[2022.0,1.0,1.0,0...| 46.26041030883789|\n",
            "|[2022.0,1.0,2.0,0...|46.175628662109375|\n",
            "|[2022.0,1.0,3.0,0...| 46.09564208984375|\n",
            "|[2022.0,1.0,4.0,0...| 46.05713653564453|\n",
            "|[2022.0,1.0,5.0,0...| 46.05221176147461|\n",
            "|[2022.0,1.0,6.0,0...| 46.08230972290039|\n",
            "|[2022.0,1.0,7.0,0...| 46.11885452270508|\n",
            "|[2022.0,1.0,8.0,0...| 46.14863586425781|\n",
            "|[2022.0,1.0,9.0,0...|46.200408935546875|\n",
            "|[2022.0,1.0,10.0,...|46.255332946777344|\n",
            "|[2022.0,1.0,11.0,...|46.302330017089844|\n",
            "|[2022.0,1.0,12.0,...|46.336158752441406|\n",
            "|[2022.0,1.0,13.0,...|46.333683013916016|\n",
            "|[2022.0,1.0,14.0,...|   46.324951171875|\n",
            "|[2022.0,1.0,15.0,...|46.283843994140625|\n",
            "|[2022.0,1.0,16.0,...| 46.23857116699219|\n",
            "|[2022.0,1.0,17.0,...|46.191349029541016|\n",
            "|[2022.0,1.0,18.0,...|46.177608489990234|\n",
            "|[2022.0,1.0,19.0,...|46.189640045166016|\n",
            "|[2022.0,1.0,20.0,...|46.201168060302734|\n",
            "+--------------------+------------------+\n",
            "only showing top 20 rows\n",
            "\n"
          ]
        }
      ]
    },
    {
      "cell_type": "code",
      "source": [
        "from pyspark.ml.functions import vector_to_array\n",
        "x = x.withColumn('year',vector_to_array(x['assembled_inputs'])[0]).withColumn('month',vector_to_array(x['assembled_inputs'])[1]).withColumn('day',vector_to_array(x['assembled_inputs'])[2])\n",
        "x.show()\n",
        "y = y.withColumn('year',vector_to_array(y['assembled_inputs'])[0]).withColumn('month',vector_to_array(y['assembled_inputs'])[1]).withColumn('day',vector_to_array(y['assembled_inputs'])[2])\n",
        "y.show()"
      ],
      "metadata": {
        "colab": {
          "base_uri": "https://localhost:8080/"
        },
        "id": "PlH8uyJNghLq",
        "outputId": "5d173a58-080b-4b2c-aea4-e25937f1ca96"
      },
      "execution_count": null,
      "outputs": [
        {
          "output_type": "stream",
          "name": "stdout",
          "text": [
            "+--------------------+------------------+------+-----+----+\n",
            "|    assembled_inputs|        prediction|  year|month| day|\n",
            "+--------------------+------------------+------+-----+----+\n",
            "|[2022.0,1.0,1.0,1...|    45.51806640625|2022.0|  1.0| 1.0|\n",
            "|[2022.0,1.0,2.0,1...| 45.32127380371094|2022.0|  1.0| 2.0|\n",
            "|[2022.0,1.0,3.0,1...| 45.14875411987305|2022.0|  1.0| 3.0|\n",
            "|[2022.0,1.0,4.0,1...|45.055397033691406|2022.0|  1.0| 4.0|\n",
            "|[2022.0,1.0,5.0,1...| 45.01095199584961|2022.0|  1.0| 5.0|\n",
            "|[2022.0,1.0,6.0,1...| 44.93840026855469|2022.0|  1.0| 6.0|\n",
            "|[2022.0,1.0,7.0,1...| 44.84392547607422|2022.0|  1.0| 7.0|\n",
            "|[2022.0,1.0,8.0,1...|44.796180725097656|2022.0|  1.0| 8.0|\n",
            "|[2022.0,1.0,9.0,1...|44.743743896484375|2022.0|  1.0| 9.0|\n",
            "|[2022.0,1.0,10.0,...|44.660160064697266|2022.0|  1.0|10.0|\n",
            "|[2022.0,1.0,11.0,...|44.500213623046875|2022.0|  1.0|11.0|\n",
            "|[2022.0,1.0,12.0,...| 44.31977844238281|2022.0|  1.0|12.0|\n",
            "|[2022.0,1.0,13.0,...|44.152976989746094|2022.0|  1.0|13.0|\n",
            "|[2022.0,1.0,14.0,...| 43.98039245605469|2022.0|  1.0|14.0|\n",
            "|[2022.0,1.0,15.0,...|43.798072814941406|2022.0|  1.0|15.0|\n",
            "|[2022.0,1.0,16.0,...| 43.60568618774414|2022.0|  1.0|16.0|\n",
            "|[2022.0,1.0,17.0,...| 43.43058776855469|2022.0|  1.0|17.0|\n",
            "|[2022.0,1.0,18.0,...|43.255096435546875|2022.0|  1.0|18.0|\n",
            "|[2022.0,1.0,19.0,...|43.070404052734375|2022.0|  1.0|19.0|\n",
            "|[2022.0,1.0,20.0,...| 42.88470458984375|2022.0|  1.0|20.0|\n",
            "+--------------------+------------------+------+-----+----+\n",
            "only showing top 20 rows\n",
            "\n",
            "+--------------------+------------------+------+-----+----+\n",
            "|    assembled_inputs|        prediction|  year|month| day|\n",
            "+--------------------+------------------+------+-----+----+\n",
            "|[2022.0,1.0,1.0,0...| 46.26041030883789|2022.0|  1.0| 1.0|\n",
            "|[2022.0,1.0,2.0,0...|46.175628662109375|2022.0|  1.0| 2.0|\n",
            "|[2022.0,1.0,3.0,0...| 46.09564208984375|2022.0|  1.0| 3.0|\n",
            "|[2022.0,1.0,4.0,0...| 46.05713653564453|2022.0|  1.0| 4.0|\n",
            "|[2022.0,1.0,5.0,0...| 46.05221176147461|2022.0|  1.0| 5.0|\n",
            "|[2022.0,1.0,6.0,0...| 46.08230972290039|2022.0|  1.0| 6.0|\n",
            "|[2022.0,1.0,7.0,0...| 46.11885452270508|2022.0|  1.0| 7.0|\n",
            "|[2022.0,1.0,8.0,0...| 46.14863586425781|2022.0|  1.0| 8.0|\n",
            "|[2022.0,1.0,9.0,0...|46.200408935546875|2022.0|  1.0| 9.0|\n",
            "|[2022.0,1.0,10.0,...|46.255332946777344|2022.0|  1.0|10.0|\n",
            "|[2022.0,1.0,11.0,...|46.302330017089844|2022.0|  1.0|11.0|\n",
            "|[2022.0,1.0,12.0,...|46.336158752441406|2022.0|  1.0|12.0|\n",
            "|[2022.0,1.0,13.0,...|46.333683013916016|2022.0|  1.0|13.0|\n",
            "|[2022.0,1.0,14.0,...|   46.324951171875|2022.0|  1.0|14.0|\n",
            "|[2022.0,1.0,15.0,...|46.283843994140625|2022.0|  1.0|15.0|\n",
            "|[2022.0,1.0,16.0,...| 46.23857116699219|2022.0|  1.0|16.0|\n",
            "|[2022.0,1.0,17.0,...|46.191349029541016|2022.0|  1.0|17.0|\n",
            "|[2022.0,1.0,18.0,...|46.177608489990234|2022.0|  1.0|18.0|\n",
            "|[2022.0,1.0,19.0,...|46.189640045166016|2022.0|  1.0|19.0|\n",
            "|[2022.0,1.0,20.0,...|46.201168060302734|2022.0|  1.0|20.0|\n",
            "+--------------------+------------------+------+-----+----+\n",
            "only showing top 20 rows\n",
            "\n"
          ]
        }
      ]
    },
    {
      "cell_type": "code",
      "source": [
        "pd_df1 = x.select(\"prediction\").toPandas()\n",
        "print(pd_df1)\n",
        "pd_df2 = y.select(\"prediction\").toPandas()\n",
        "print(pd_df2)"
      ],
      "metadata": {
        "colab": {
          "base_uri": "https://localhost:8080/"
        },
        "id": "hIHwxLhDn8ob",
        "outputId": "feb19b3b-7079-4ef6-805e-e9a616e03a8f"
      },
      "execution_count": null,
      "outputs": [
        {
          "output_type": "stream",
          "name": "stdout",
          "text": [
            "     prediction\n",
            "0     45.518066\n",
            "1     45.321274\n",
            "2     45.148754\n",
            "3     45.055397\n",
            "4     45.010952\n",
            "..          ...\n",
            "360   49.569508\n",
            "361   49.656689\n",
            "362   49.761654\n",
            "363   49.887939\n",
            "364   50.030449\n",
            "\n",
            "[365 rows x 1 columns]\n",
            "     prediction\n",
            "0     46.260410\n",
            "1     46.175629\n",
            "2     46.095642\n",
            "3     46.057137\n",
            "4     46.052212\n",
            "..          ...\n",
            "360   52.760494\n",
            "361   52.657589\n",
            "362   52.553978\n",
            "363   52.442963\n",
            "364   52.331665\n",
            "\n",
            "[365 rows x 1 columns]\n"
          ]
        }
      ]
    },
    {
      "cell_type": "code",
      "source": [
        "import plotly.graph_objects as go\n",
        "\n",
        "# set up plotly figure\n",
        "fig = go.Figure()\n",
        "\n",
        "# add line / trace 1 to figure\n",
        "fig.add_trace(go.Scatter(\n",
        "    x=pd_df1.index,\n",
        "    y=pd_df1['prediction'],\n",
        "    hovertext=pd_df1['prediction'],\n",
        "    hoverinfo=\"text\",\n",
        "    marker=dict(\n",
        "        color=\"blue\"\n",
        "    ),\n",
        "    showlegend=False\n",
        "))\n",
        "\n",
        "# add line / trace 2 to figure\n",
        "fig.add_trace(go.Scatter(\n",
        "    x=pd_df2.index,\n",
        "    y=pd_df2['prediction'],\n",
        "    hovertext=pd_df2['prediction'],\n",
        "    hoverinfo=\"text\",\n",
        "    marker=dict(\n",
        "        color=\"red\"\n",
        "    ),showlegend=False\n",
        "))\n",
        "fig.update_xaxes(title_text=\"Day of the year\")\n",
        "fig.update_yaxes(title_text=\"Predicted average daily temperature for 2022\")\n",
        "fig.show()"
      ],
      "metadata": {
        "colab": {
          "base_uri": "https://localhost:8080/",
          "height": 542
        },
        "id": "kGN_eiZvnQ_C",
        "outputId": "bf67365d-8584-4041-b993-2d896944f836"
      },
      "execution_count": null,
      "outputs": [
        {
          "output_type": "display_data",
          "data": {
            "text/html": [
              "<html>\n",
              "<head><meta charset=\"utf-8\" /></head>\n",
              "<body>\n",
              "    <div>\n",
              "            <script src=\"https://cdnjs.cloudflare.com/ajax/libs/mathjax/2.7.5/MathJax.js?config=TeX-AMS-MML_SVG\"></script><script type=\"text/javascript\">if (window.MathJax) {MathJax.Hub.Config({SVG: {font: \"STIX-Web\"}});}</script>\n",
              "                <script type=\"text/javascript\">window.PlotlyConfig = {MathJaxConfig: 'local'};</script>\n",
              "        <script src=\"https://cdn.plot.ly/plotly-latest.min.js\"></script>    \n",
              "            <div id=\"eb796643-0f93-4bdc-a92d-02c91b422721\" class=\"plotly-graph-div\" style=\"height:525px; width:100%;\"></div>\n",
              "            <script type=\"text/javascript\">\n",
              "                \n",
              "                    window.PLOTLYENV=window.PLOTLYENV || {};\n",
              "                    \n",
              "                if (document.getElementById(\"eb796643-0f93-4bdc-a92d-02c91b422721\")) {\n",
              "                    Plotly.newPlot(\n",
              "                        'eb796643-0f93-4bdc-a92d-02c91b422721',\n",
              "                        [{\"hoverinfo\": \"text\", \"hovertext\": [45.51806640625, 45.32127380371094, 45.14875411987305, 45.055397033691406, 45.01095199584961, 44.93840026855469, 44.84392547607422, 44.796180725097656, 44.743743896484375, 44.660160064697266, 44.500213623046875, 44.31977844238281, 44.152976989746094, 43.98039245605469, 43.798072814941406, 43.60568618774414, 43.43058776855469, 43.255096435546875, 43.070404052734375, 42.88470458984375, 42.761627197265625, 42.64091491699219, 42.523216247558594, 42.441871643066406, 42.397613525390625, 42.48645782470703, 42.57597351074219, 42.68455505371094, 42.80732345581055, 42.929542541503906, 43.048431396484375, 46.76491928100586, 46.679019927978516, 46.61692810058594, 46.57813262939453, 46.51750183105469, 46.45975112915039, 46.391326904296875, 46.31249237060547, 46.18974304199219, 45.98869323730469, 45.734580993652344, 45.44005584716797, 45.18235778808594, 44.95446014404297, 44.7181396484375, 44.49074172973633, 44.307098388671875, 44.13172912597656, 43.960662841796875, 43.78385925292969, 43.653175354003906, 43.531219482421875, 43.4235954284668, 43.38679504394531, 43.39752960205078, 43.48902130126953, 43.56114196777344, 43.635196685791016, 48.187644958496094, 48.17095184326172, 48.122459411621094, 48.072998046875, 47.989349365234375, 47.89501953125, 47.76918411254883, 47.5526008605957, 47.271888732910156, 46.978492736816406, 46.68904495239258, 46.39869689941406, 46.120277404785156, 45.8818244934082, 45.650169372558594, 45.41682434082031, 45.196754455566406, 45.00348663330078, 44.813758850097656, 44.631019592285156, 44.482643127441406, 44.37020492553711, 44.3348503112793, 44.31629943847656, 44.30183792114258, 44.334896087646484, 44.39765930175781, 44.45899963378906, 44.52239990234375, 44.59499740600586, 44.66838836669922, 49.53388214111328, 49.49323654174805, 49.45989990234375, 49.385921478271484, 49.26936340332031, 49.104515075683594, 48.8570442199707, 48.538211822509766, 48.22642517089844, 47.93096160888672, 47.62171936035156, 47.30431365966797, 47.019161224365234, 46.77287292480469, 46.531288146972656, 46.286888122558594, 46.043025970458984, 45.828189849853516, 45.619903564453125, 45.415283203125, 45.21628952026367, 45.163631439208984, 45.11497497558594, 45.05023193359375, 45.01325225830078, 45.05845642089844, 45.09711837768555, 45.125553131103516, 45.1671028137207, 45.23087692260742, 50.774452209472656, 50.72623825073242, 50.65696716308594, 50.535911560058594, 50.38145446777344, 50.104820251464844, 49.78703308105469, 49.463584899902344, 49.130462646484375, 48.80537796020508, 48.493167877197266, 48.17771911621094, 47.867835998535156, 47.584022521972656, 47.3141975402832, 47.03911590576172, 46.760337829589844, 46.49382019042969, 46.268310546875, 46.06060791015625, 45.89906311035156, 45.80420684814453, 45.70618438720703, 45.61528015136719, 45.592071533203125, 45.61486053466797, 45.63208770751953, 45.66779327392578, 45.749534606933594, 45.8438720703125, 45.94044494628906, 51.898563385009766, 51.853214263916016, 51.79862976074219, 51.61263656616211, 51.342403411865234, 51.01742172241211, 50.67869186401367, 50.30970001220703, 49.927772521972656, 49.53168487548828, 49.160221099853516, 48.793739318847656, 48.45162582397461, 48.15746307373047, 47.87367248535156, 47.594757080078125, 47.31903839111328, 47.025428771972656, 46.77557373046875, 46.57099533081055, 46.41594696044922, 46.287940979003906, 46.18609619140625, 46.09729766845703, 46.09605407714844, 46.13795852661133, 46.21279525756836, 46.28638458251953, 46.363121032714844, 46.466529846191406, 52.96999740600586, 52.874576568603516, 52.6710319519043, 52.37840270996094, 52.02019500732422, 51.63313293457031, 51.224578857421875, 50.8174934387207, 50.41027069091797, 50.00518035888672, 49.60491943359375, 49.235076904296875, 48.88773727416992, 48.570838928222656, 48.268829345703125, 47.965309143066406, 47.645626068115234, 47.377296447753906, 47.10867691040039, 46.95051574707031, 46.79862976074219, 46.64795684814453, 46.54505920410156, 46.492427825927734, 46.54927062988281, 46.624359130859375, 46.71015167236328, 46.79728698730469, 46.889732360839844, 47.00031661987305, 47.11213684082031, 53.71834182739258, 53.50798416137695, 53.21778869628906, 52.858299255371094, 52.46723175048828, 52.0633544921875, 51.65351867675781, 51.23640823364258, 50.80243682861328, 50.37122344970703, 49.942405700683594, 49.54499816894531, 49.193145751953125, 48.87830352783203, 48.55970001220703, 48.2586669921875, 47.98453903198242, 47.71179962158203, 47.47804641723633, 47.301483154296875, 47.1446647644043, 47.00421905517578, 46.96162796020508, 46.95186233520508, 47.02260208129883, 47.10015106201172, 47.189327239990234, 47.280296325683594, 47.378173828125, 47.49779510498047, 47.62547302246094, 54.323020935058594, 54.06082534790039, 53.690086364746094, 53.28562927246094, 52.86099624633789, 52.42753982543945, 51.99068832397461, 51.553836822509766, 51.11611557006836, 50.68132019042969, 50.27151870727539, 49.864952087402344, 49.478336334228516, 49.153411865234375, 48.86568069458008, 48.592262268066406, 48.32073211669922, 48.06932067871094, 47.86390686035156, 47.6768798828125, 47.56080627441406, 47.46979904174805, 47.42411804199219, 47.4378662109375, 47.518470764160156, 47.595787048339844, 47.67671203613281, 47.76972198486328, 47.870384216308594, 48.01742935180664, 54.807212829589844, 54.432334899902344, 54.03789520263672, 53.63081741333008, 53.2003059387207, 52.76862716674805, 52.33531188964844, 51.89863967895508, 51.468711853027344, 51.04519271850586, 50.620689392089844, 50.202274322509766, 49.79624938964844, 49.508392333984375, 49.2331657409668, 48.957847595214844, 48.687835693359375, 48.49495315551758, 48.32728576660156, 48.158294677734375, 48.02674102783203, 47.95921325683594, 47.92469024658203, 47.97444152832031, 48.07240676879883, 48.16903305053711, 48.266761779785156, 48.36798858642578, 48.481605529785156, 48.623600006103516, 48.76508712768555, 55.089393615722656, 54.71217727661133, 54.331016540527344, 53.93768310546875, 53.5224609375, 53.099754333496094, 52.67558288574219, 52.2489013671875, 51.822425842285156, 51.40024948120117, 50.97798156738281, 50.57159423828125, 50.21009826660156, 49.90446472167969, 49.63097381591797, 49.393959045410156, 49.235042572021484, 49.09123229980469, 48.941524505615234, 48.801048278808594, 48.69938659667969, 48.63470458984375, 48.58168029785156, 48.624149322509766, 48.71266174316406, 48.80742645263672, 48.9013557434082, 48.99595260620117, 49.09838104248047, 49.2297477722168, 55.39976501464844, 55.004364013671875, 54.60140609741211, 54.187950134277344, 53.7627067565918, 53.34537887573242, 52.92970275878906, 52.527252197265625, 52.12651062011719, 51.718772888183594, 51.353336334228516, 51.02094268798828, 50.70121765136719, 50.44547653198242, 50.22997283935547, 50.052818298339844, 49.910667419433594, 49.768798828125, 49.629112243652344, 49.507469177246094, 49.40217590332031, 49.312713623046875, 49.25835418701172, 49.29829025268555, 49.394493103027344, 49.484275817871094, 49.56950759887695, 49.65668869018555, 49.761653900146484, 49.887939453125, 50.03044891357422], \"marker\": {\"color\": \"blue\"}, \"showlegend\": false, \"type\": \"scatter\", \"x\": [0, 1, 2, 3, 4, 5, 6, 7, 8, 9, 10, 11, 12, 13, 14, 15, 16, 17, 18, 19, 20, 21, 22, 23, 24, 25, 26, 27, 28, 29, 30, 31, 32, 33, 34, 35, 36, 37, 38, 39, 40, 41, 42, 43, 44, 45, 46, 47, 48, 49, 50, 51, 52, 53, 54, 55, 56, 57, 58, 59, 60, 61, 62, 63, 64, 65, 66, 67, 68, 69, 70, 71, 72, 73, 74, 75, 76, 77, 78, 79, 80, 81, 82, 83, 84, 85, 86, 87, 88, 89, 90, 91, 92, 93, 94, 95, 96, 97, 98, 99, 100, 101, 102, 103, 104, 105, 106, 107, 108, 109, 110, 111, 112, 113, 114, 115, 116, 117, 118, 119, 120, 121, 122, 123, 124, 125, 126, 127, 128, 129, 130, 131, 132, 133, 134, 135, 136, 137, 138, 139, 140, 141, 142, 143, 144, 145, 146, 147, 148, 149, 150, 151, 152, 153, 154, 155, 156, 157, 158, 159, 160, 161, 162, 163, 164, 165, 166, 167, 168, 169, 170, 171, 172, 173, 174, 175, 176, 177, 178, 179, 180, 181, 182, 183, 184, 185, 186, 187, 188, 189, 190, 191, 192, 193, 194, 195, 196, 197, 198, 199, 200, 201, 202, 203, 204, 205, 206, 207, 208, 209, 210, 211, 212, 213, 214, 215, 216, 217, 218, 219, 220, 221, 222, 223, 224, 225, 226, 227, 228, 229, 230, 231, 232, 233, 234, 235, 236, 237, 238, 239, 240, 241, 242, 243, 244, 245, 246, 247, 248, 249, 250, 251, 252, 253, 254, 255, 256, 257, 258, 259, 260, 261, 262, 263, 264, 265, 266, 267, 268, 269, 270, 271, 272, 273, 274, 275, 276, 277, 278, 279, 280, 281, 282, 283, 284, 285, 286, 287, 288, 289, 290, 291, 292, 293, 294, 295, 296, 297, 298, 299, 300, 301, 302, 303, 304, 305, 306, 307, 308, 309, 310, 311, 312, 313, 314, 315, 316, 317, 318, 319, 320, 321, 322, 323, 324, 325, 326, 327, 328, 329, 330, 331, 332, 333, 334, 335, 336, 337, 338, 339, 340, 341, 342, 343, 344, 345, 346, 347, 348, 349, 350, 351, 352, 353, 354, 355, 356, 357, 358, 359, 360, 361, 362, 363, 364], \"y\": [45.51806640625, 45.32127380371094, 45.14875411987305, 45.055397033691406, 45.01095199584961, 44.93840026855469, 44.84392547607422, 44.796180725097656, 44.743743896484375, 44.660160064697266, 44.500213623046875, 44.31977844238281, 44.152976989746094, 43.98039245605469, 43.798072814941406, 43.60568618774414, 43.43058776855469, 43.255096435546875, 43.070404052734375, 42.88470458984375, 42.761627197265625, 42.64091491699219, 42.523216247558594, 42.441871643066406, 42.397613525390625, 42.48645782470703, 42.57597351074219, 42.68455505371094, 42.80732345581055, 42.929542541503906, 43.048431396484375, 46.76491928100586, 46.679019927978516, 46.61692810058594, 46.57813262939453, 46.51750183105469, 46.45975112915039, 46.391326904296875, 46.31249237060547, 46.18974304199219, 45.98869323730469, 45.734580993652344, 45.44005584716797, 45.18235778808594, 44.95446014404297, 44.7181396484375, 44.49074172973633, 44.307098388671875, 44.13172912597656, 43.960662841796875, 43.78385925292969, 43.653175354003906, 43.531219482421875, 43.4235954284668, 43.38679504394531, 43.39752960205078, 43.48902130126953, 43.56114196777344, 43.635196685791016, 48.187644958496094, 48.17095184326172, 48.122459411621094, 48.072998046875, 47.989349365234375, 47.89501953125, 47.76918411254883, 47.5526008605957, 47.271888732910156, 46.978492736816406, 46.68904495239258, 46.39869689941406, 46.120277404785156, 45.8818244934082, 45.650169372558594, 45.41682434082031, 45.196754455566406, 45.00348663330078, 44.813758850097656, 44.631019592285156, 44.482643127441406, 44.37020492553711, 44.3348503112793, 44.31629943847656, 44.30183792114258, 44.334896087646484, 44.39765930175781, 44.45899963378906, 44.52239990234375, 44.59499740600586, 44.66838836669922, 49.53388214111328, 49.49323654174805, 49.45989990234375, 49.385921478271484, 49.26936340332031, 49.104515075683594, 48.8570442199707, 48.538211822509766, 48.22642517089844, 47.93096160888672, 47.62171936035156, 47.30431365966797, 47.019161224365234, 46.77287292480469, 46.531288146972656, 46.286888122558594, 46.043025970458984, 45.828189849853516, 45.619903564453125, 45.415283203125, 45.21628952026367, 45.163631439208984, 45.11497497558594, 45.05023193359375, 45.01325225830078, 45.05845642089844, 45.09711837768555, 45.125553131103516, 45.1671028137207, 45.23087692260742, 50.774452209472656, 50.72623825073242, 50.65696716308594, 50.535911560058594, 50.38145446777344, 50.104820251464844, 49.78703308105469, 49.463584899902344, 49.130462646484375, 48.80537796020508, 48.493167877197266, 48.17771911621094, 47.867835998535156, 47.584022521972656, 47.3141975402832, 47.03911590576172, 46.760337829589844, 46.49382019042969, 46.268310546875, 46.06060791015625, 45.89906311035156, 45.80420684814453, 45.70618438720703, 45.61528015136719, 45.592071533203125, 45.61486053466797, 45.63208770751953, 45.66779327392578, 45.749534606933594, 45.8438720703125, 45.94044494628906, 51.898563385009766, 51.853214263916016, 51.79862976074219, 51.61263656616211, 51.342403411865234, 51.01742172241211, 50.67869186401367, 50.30970001220703, 49.927772521972656, 49.53168487548828, 49.160221099853516, 48.793739318847656, 48.45162582397461, 48.15746307373047, 47.87367248535156, 47.594757080078125, 47.31903839111328, 47.025428771972656, 46.77557373046875, 46.57099533081055, 46.41594696044922, 46.287940979003906, 46.18609619140625, 46.09729766845703, 46.09605407714844, 46.13795852661133, 46.21279525756836, 46.28638458251953, 46.363121032714844, 46.466529846191406, 52.96999740600586, 52.874576568603516, 52.6710319519043, 52.37840270996094, 52.02019500732422, 51.63313293457031, 51.224578857421875, 50.8174934387207, 50.41027069091797, 50.00518035888672, 49.60491943359375, 49.235076904296875, 48.88773727416992, 48.570838928222656, 48.268829345703125, 47.965309143066406, 47.645626068115234, 47.377296447753906, 47.10867691040039, 46.95051574707031, 46.79862976074219, 46.64795684814453, 46.54505920410156, 46.492427825927734, 46.54927062988281, 46.624359130859375, 46.71015167236328, 46.79728698730469, 46.889732360839844, 47.00031661987305, 47.11213684082031, 53.71834182739258, 53.50798416137695, 53.21778869628906, 52.858299255371094, 52.46723175048828, 52.0633544921875, 51.65351867675781, 51.23640823364258, 50.80243682861328, 50.37122344970703, 49.942405700683594, 49.54499816894531, 49.193145751953125, 48.87830352783203, 48.55970001220703, 48.2586669921875, 47.98453903198242, 47.71179962158203, 47.47804641723633, 47.301483154296875, 47.1446647644043, 47.00421905517578, 46.96162796020508, 46.95186233520508, 47.02260208129883, 47.10015106201172, 47.189327239990234, 47.280296325683594, 47.378173828125, 47.49779510498047, 47.62547302246094, 54.323020935058594, 54.06082534790039, 53.690086364746094, 53.28562927246094, 52.86099624633789, 52.42753982543945, 51.99068832397461, 51.553836822509766, 51.11611557006836, 50.68132019042969, 50.27151870727539, 49.864952087402344, 49.478336334228516, 49.153411865234375, 48.86568069458008, 48.592262268066406, 48.32073211669922, 48.06932067871094, 47.86390686035156, 47.6768798828125, 47.56080627441406, 47.46979904174805, 47.42411804199219, 47.4378662109375, 47.518470764160156, 47.595787048339844, 47.67671203613281, 47.76972198486328, 47.870384216308594, 48.01742935180664, 54.807212829589844, 54.432334899902344, 54.03789520263672, 53.63081741333008, 53.2003059387207, 52.76862716674805, 52.33531188964844, 51.89863967895508, 51.468711853027344, 51.04519271850586, 50.620689392089844, 50.202274322509766, 49.79624938964844, 49.508392333984375, 49.2331657409668, 48.957847595214844, 48.687835693359375, 48.49495315551758, 48.32728576660156, 48.158294677734375, 48.02674102783203, 47.95921325683594, 47.92469024658203, 47.97444152832031, 48.07240676879883, 48.16903305053711, 48.266761779785156, 48.36798858642578, 48.481605529785156, 48.623600006103516, 48.76508712768555, 55.089393615722656, 54.71217727661133, 54.331016540527344, 53.93768310546875, 53.5224609375, 53.099754333496094, 52.67558288574219, 52.2489013671875, 51.822425842285156, 51.40024948120117, 50.97798156738281, 50.57159423828125, 50.21009826660156, 49.90446472167969, 49.63097381591797, 49.393959045410156, 49.235042572021484, 49.09123229980469, 48.941524505615234, 48.801048278808594, 48.69938659667969, 48.63470458984375, 48.58168029785156, 48.624149322509766, 48.71266174316406, 48.80742645263672, 48.9013557434082, 48.99595260620117, 49.09838104248047, 49.2297477722168, 55.39976501464844, 55.004364013671875, 54.60140609741211, 54.187950134277344, 53.7627067565918, 53.34537887573242, 52.92970275878906, 52.527252197265625, 52.12651062011719, 51.718772888183594, 51.353336334228516, 51.02094268798828, 50.70121765136719, 50.44547653198242, 50.22997283935547, 50.052818298339844, 49.910667419433594, 49.768798828125, 49.629112243652344, 49.507469177246094, 49.40217590332031, 49.312713623046875, 49.25835418701172, 49.29829025268555, 49.394493103027344, 49.484275817871094, 49.56950759887695, 49.65668869018555, 49.761653900146484, 49.887939453125, 50.03044891357422]}, {\"hoverinfo\": \"text\", \"hovertext\": [46.26041030883789, 46.175628662109375, 46.09564208984375, 46.05713653564453, 46.05221176147461, 46.08230972290039, 46.11885452270508, 46.14863586425781, 46.200408935546875, 46.255332946777344, 46.302330017089844, 46.336158752441406, 46.333683013916016, 46.324951171875, 46.283843994140625, 46.23857116699219, 46.191349029541016, 46.177608489990234, 46.189640045166016, 46.201168060302734, 46.2068977355957, 46.20109176635742, 46.2015495300293, 46.21935272216797, 46.23767852783203, 46.24957275390625, 46.239662170410156, 46.23190689086914, 46.22414779663086, 46.214874267578125, 46.19994354248047, 47.503334045410156, 47.50860595703125, 47.52072525024414, 47.540122985839844, 47.59363555908203, 47.658668518066406, 47.71820068359375, 47.75980758666992, 47.81428527832031, 47.847835540771484, 47.83441925048828, 47.79278564453125, 47.758270263671875, 47.70918655395508, 47.657386779785156, 47.6030387878418, 47.54803466796875, 47.507911682128906, 47.48863220214844, 47.46031188964844, 47.43193817138672, 47.403282165527344, 47.35124206542969, 47.32044982910156, 47.30133819580078, 47.282997131347656, 47.26331329345703, 47.24287414550781, 48.945228576660156, 49.320518493652344, 49.131996154785156, 49.085723876953125, 49.140586853027344, 49.19997787475586, 49.249473571777344, 49.28858947753906, 49.28907012939453, 49.253570556640625, 49.19960021972656, 49.127532958984375, 49.05265808105469, 48.983978271484375, 48.910892486572266, 48.823402404785156, 48.737091064453125, 48.66172790527344, 48.60575866699219, 48.541893005371094, 48.47722625732422, 48.417625427246094, 48.350955963134766, 48.279335021972656, 48.23847961425781, 48.2011833190918, 48.166236877441406, 48.138614654541016, 48.11151123046875, 48.08184051513672, 48.05157470703125, 50.28314208984375, 50.318275451660156, 50.36104965209961, 50.424678802490234, 50.48924255371094, 50.545719146728516, 50.565895080566406, 50.552978515625, 50.50715255737305, 50.448604583740234, 50.36464309692383, 50.27983093261719, 50.19387435913086, 50.11622619628906, 50.029727935791016, 49.907630920410156, 49.78553009033203, 49.682647705078125, 49.61298751831055, 49.5430908203125, 49.471473693847656, 49.397254943847656, 49.320518493652344, 49.23877716064453, 49.16581726074219, 49.131996154785156, 49.09742736816406, 49.05883026123047, 49.01469802856445, 48.97075653076172, 51.49144744873047, 51.57318878173828, 51.650413513183594, 51.71766662597656, 51.76802444458008, 51.78966522216797, 51.77934265136719, 51.736610412597656, 51.67549133300781, 51.59040832519531, 51.494346618652344, 51.37818908691406, 51.257102966308594, 51.127349853515625, 51.00648880004883, 50.878116607666016, 50.749534606933594, 50.63437271118164, 50.55726623535156, 50.48166275024414, 50.406944274902344, 50.32900619506836, 50.25114440917969, 50.167503356933594, 50.07978820800781, 50.00416564941406, 49.94903564453125, 49.88677978515625, 49.82850646972656, 49.7685546875, 49.707237243652344, 52.68307876586914, 52.77110290527344, 52.856502532958984, 52.91067886352539, 52.9430046081543, 52.93207550048828, 52.88271713256836, 52.77521514892578, 52.655799865722656, 52.53716278076172, 52.40634536743164, 52.25979995727539, 52.11153030395508, 51.962860107421875, 51.8253059387207, 51.68450164794922, 51.538639068603516, 51.403717041015625, 51.305946350097656, 51.207359313964844, 51.106483459472656, 51.00433349609375, 50.90983581542969, 50.81302261352539, 50.71717071533203, 50.61970520019531, 50.53239440917969, 50.457881927490234, 50.38357925415039, 50.30686950683594, 53.79604721069336, 53.87053680419922, 53.934242248535156, 53.9427375793457, 53.87451171875, 53.76963806152344, 53.64107131958008, 53.50879669189453, 53.3582763671875, 53.19951629638672, 53.03678512573242, 52.87279510498047, 52.70880889892578, 52.54481506347656, 52.38346862792969, 52.22697067260742, 52.068138122558594, 51.920692443847656, 51.80944061279297, 51.70390701293945, 51.601959228515625, 51.5053596496582, 51.39810562133789, 51.27836990356445, 51.149044036865234, 51.023170471191406, 50.90020751953125, 50.79691696166992, 50.703155517578125, 50.60298156738281, 50.5034294128418, 54.628761291503906, 54.66350555419922, 54.63932800292969, 54.5782356262207, 54.460853576660156, 54.32131576538086, 54.164066314697266, 53.992820739746094, 53.82109451293945, 53.6533088684082, 53.484886169433594, 53.31596374511719, 53.1476936340332, 52.980838775634766, 52.8051643371582, 52.63032531738281, 52.45804214477539, 52.30274963378906, 52.17740249633789, 52.06333923339844, 51.95066833496094, 51.836456298828125, 51.721923828125, 51.6004753112793, 51.469520568847656, 51.33211898803711, 51.20030212402344, 51.06958770751953, 50.965126037597656, 50.86891174316406, 50.75807189941406, 55.285888671875, 55.27787780761719, 55.212501525878906, 55.093162536621094, 54.93935012817383, 54.77272415161133, 54.599449157714844, 54.41282653808594, 54.22734832763672, 54.04546356201172, 53.86427307128906, 53.686805725097656, 53.50920867919922, 53.332862854003906, 53.15614700317383, 52.98688888549805, 52.824562072753906, 52.676292419433594, 52.54956817626953, 52.42707824707031, 52.300148010253906, 52.166481018066406, 52.03190612792969, 51.90030288696289, 51.75965881347656, 51.620033264160156, 51.480525970458984, 51.34410858154297, 51.215126037597656, 51.10865020751953, 55.859901428222656, 55.77880859375, 55.62483596801758, 55.45929718017578, 55.290042877197266, 55.10972213745117, 54.926025390625, 54.74179458618164, 54.56122589111328, 54.3865966796875, 54.213478088378906, 54.04117202758789, 53.867671966552734, 53.70014953613281, 53.530662536621094, 53.364566802978516, 53.19614028930664, 53.03293228149414, 52.888465881347656, 52.7547607421875, 52.619895935058594, 52.482643127441406, 52.34455108642578, 52.21111297607422, 52.07499694824219, 51.93364334106445, 51.79766845703125, 51.665321350097656, 51.54878616333008, 51.447994232177734, 51.37544631958008, 56.16777801513672, 56.030982971191406, 55.884708404541016, 55.725494384765625, 55.5695915222168, 55.405433654785156, 55.24018478393555, 55.07572937011719, 54.912315368652344, 54.748294830322266, 54.57513427734375, 54.40791320800781, 54.23095703125, 54.05752944946289, 53.88080596923828, 53.70372009277344, 53.524234771728516, 53.36030578613281, 53.21234893798828, 53.07831573486328, 52.94526672363281, 52.80963134765625, 52.67070007324219, 52.53174591064453, 52.41150665283203, 52.31196975708008, 52.21784210205078, 52.11559295654297, 52.010250091552734, 51.90239715576172, 56.51161575317383, 56.36701965332031, 56.217193603515625, 56.06285858154297, 55.909698486328125, 55.74631118774414, 55.57394027709961, 55.40117263793945, 55.2292366027832, 55.05817413330078, 54.89305114746094, 54.72979736328125, 54.566261291503906, 54.40272521972656, 54.23725509643555, 54.072021484375, 53.90632247924805, 53.75421905517578, 53.615684509277344, 53.485023498535156, 53.34934997558594, 53.24089813232422, 53.13712692260742, 53.044273376464844, 52.955894470214844, 52.862762451171875, 52.760494232177734, 52.657588958740234, 52.553977966308594, 52.442962646484375, 52.3316650390625], \"marker\": {\"color\": \"red\"}, \"showlegend\": false, \"type\": \"scatter\", \"x\": [0, 1, 2, 3, 4, 5, 6, 7, 8, 9, 10, 11, 12, 13, 14, 15, 16, 17, 18, 19, 20, 21, 22, 23, 24, 25, 26, 27, 28, 29, 30, 31, 32, 33, 34, 35, 36, 37, 38, 39, 40, 41, 42, 43, 44, 45, 46, 47, 48, 49, 50, 51, 52, 53, 54, 55, 56, 57, 58, 59, 60, 61, 62, 63, 64, 65, 66, 67, 68, 69, 70, 71, 72, 73, 74, 75, 76, 77, 78, 79, 80, 81, 82, 83, 84, 85, 86, 87, 88, 89, 90, 91, 92, 93, 94, 95, 96, 97, 98, 99, 100, 101, 102, 103, 104, 105, 106, 107, 108, 109, 110, 111, 112, 113, 114, 115, 116, 117, 118, 119, 120, 121, 122, 123, 124, 125, 126, 127, 128, 129, 130, 131, 132, 133, 134, 135, 136, 137, 138, 139, 140, 141, 142, 143, 144, 145, 146, 147, 148, 149, 150, 151, 152, 153, 154, 155, 156, 157, 158, 159, 160, 161, 162, 163, 164, 165, 166, 167, 168, 169, 170, 171, 172, 173, 174, 175, 176, 177, 178, 179, 180, 181, 182, 183, 184, 185, 186, 187, 188, 189, 190, 191, 192, 193, 194, 195, 196, 197, 198, 199, 200, 201, 202, 203, 204, 205, 206, 207, 208, 209, 210, 211, 212, 213, 214, 215, 216, 217, 218, 219, 220, 221, 222, 223, 224, 225, 226, 227, 228, 229, 230, 231, 232, 233, 234, 235, 236, 237, 238, 239, 240, 241, 242, 243, 244, 245, 246, 247, 248, 249, 250, 251, 252, 253, 254, 255, 256, 257, 258, 259, 260, 261, 262, 263, 264, 265, 266, 267, 268, 269, 270, 271, 272, 273, 274, 275, 276, 277, 278, 279, 280, 281, 282, 283, 284, 285, 286, 287, 288, 289, 290, 291, 292, 293, 294, 295, 296, 297, 298, 299, 300, 301, 302, 303, 304, 305, 306, 307, 308, 309, 310, 311, 312, 313, 314, 315, 316, 317, 318, 319, 320, 321, 322, 323, 324, 325, 326, 327, 328, 329, 330, 331, 332, 333, 334, 335, 336, 337, 338, 339, 340, 341, 342, 343, 344, 345, 346, 347, 348, 349, 350, 351, 352, 353, 354, 355, 356, 357, 358, 359, 360, 361, 362, 363, 364], \"y\": [46.26041030883789, 46.175628662109375, 46.09564208984375, 46.05713653564453, 46.05221176147461, 46.08230972290039, 46.11885452270508, 46.14863586425781, 46.200408935546875, 46.255332946777344, 46.302330017089844, 46.336158752441406, 46.333683013916016, 46.324951171875, 46.283843994140625, 46.23857116699219, 46.191349029541016, 46.177608489990234, 46.189640045166016, 46.201168060302734, 46.2068977355957, 46.20109176635742, 46.2015495300293, 46.21935272216797, 46.23767852783203, 46.24957275390625, 46.239662170410156, 46.23190689086914, 46.22414779663086, 46.214874267578125, 46.19994354248047, 47.503334045410156, 47.50860595703125, 47.52072525024414, 47.540122985839844, 47.59363555908203, 47.658668518066406, 47.71820068359375, 47.75980758666992, 47.81428527832031, 47.847835540771484, 47.83441925048828, 47.79278564453125, 47.758270263671875, 47.70918655395508, 47.657386779785156, 47.6030387878418, 47.54803466796875, 47.507911682128906, 47.48863220214844, 47.46031188964844, 47.43193817138672, 47.403282165527344, 47.35124206542969, 47.32044982910156, 47.30133819580078, 47.282997131347656, 47.26331329345703, 47.24287414550781, 48.945228576660156, 49.320518493652344, 49.131996154785156, 49.085723876953125, 49.140586853027344, 49.19997787475586, 49.249473571777344, 49.28858947753906, 49.28907012939453, 49.253570556640625, 49.19960021972656, 49.127532958984375, 49.05265808105469, 48.983978271484375, 48.910892486572266, 48.823402404785156, 48.737091064453125, 48.66172790527344, 48.60575866699219, 48.541893005371094, 48.47722625732422, 48.417625427246094, 48.350955963134766, 48.279335021972656, 48.23847961425781, 48.2011833190918, 48.166236877441406, 48.138614654541016, 48.11151123046875, 48.08184051513672, 48.05157470703125, 50.28314208984375, 50.318275451660156, 50.36104965209961, 50.424678802490234, 50.48924255371094, 50.545719146728516, 50.565895080566406, 50.552978515625, 50.50715255737305, 50.448604583740234, 50.36464309692383, 50.27983093261719, 50.19387435913086, 50.11622619628906, 50.029727935791016, 49.907630920410156, 49.78553009033203, 49.682647705078125, 49.61298751831055, 49.5430908203125, 49.471473693847656, 49.397254943847656, 49.320518493652344, 49.23877716064453, 49.16581726074219, 49.131996154785156, 49.09742736816406, 49.05883026123047, 49.01469802856445, 48.97075653076172, 51.49144744873047, 51.57318878173828, 51.650413513183594, 51.71766662597656, 51.76802444458008, 51.78966522216797, 51.77934265136719, 51.736610412597656, 51.67549133300781, 51.59040832519531, 51.494346618652344, 51.37818908691406, 51.257102966308594, 51.127349853515625, 51.00648880004883, 50.878116607666016, 50.749534606933594, 50.63437271118164, 50.55726623535156, 50.48166275024414, 50.406944274902344, 50.32900619506836, 50.25114440917969, 50.167503356933594, 50.07978820800781, 50.00416564941406, 49.94903564453125, 49.88677978515625, 49.82850646972656, 49.7685546875, 49.707237243652344, 52.68307876586914, 52.77110290527344, 52.856502532958984, 52.91067886352539, 52.9430046081543, 52.93207550048828, 52.88271713256836, 52.77521514892578, 52.655799865722656, 52.53716278076172, 52.40634536743164, 52.25979995727539, 52.11153030395508, 51.962860107421875, 51.8253059387207, 51.68450164794922, 51.538639068603516, 51.403717041015625, 51.305946350097656, 51.207359313964844, 51.106483459472656, 51.00433349609375, 50.90983581542969, 50.81302261352539, 50.71717071533203, 50.61970520019531, 50.53239440917969, 50.457881927490234, 50.38357925415039, 50.30686950683594, 53.79604721069336, 53.87053680419922, 53.934242248535156, 53.9427375793457, 53.87451171875, 53.76963806152344, 53.64107131958008, 53.50879669189453, 53.3582763671875, 53.19951629638672, 53.03678512573242, 52.87279510498047, 52.70880889892578, 52.54481506347656, 52.38346862792969, 52.22697067260742, 52.068138122558594, 51.920692443847656, 51.80944061279297, 51.70390701293945, 51.601959228515625, 51.5053596496582, 51.39810562133789, 51.27836990356445, 51.149044036865234, 51.023170471191406, 50.90020751953125, 50.79691696166992, 50.703155517578125, 50.60298156738281, 50.5034294128418, 54.628761291503906, 54.66350555419922, 54.63932800292969, 54.5782356262207, 54.460853576660156, 54.32131576538086, 54.164066314697266, 53.992820739746094, 53.82109451293945, 53.6533088684082, 53.484886169433594, 53.31596374511719, 53.1476936340332, 52.980838775634766, 52.8051643371582, 52.63032531738281, 52.45804214477539, 52.30274963378906, 52.17740249633789, 52.06333923339844, 51.95066833496094, 51.836456298828125, 51.721923828125, 51.6004753112793, 51.469520568847656, 51.33211898803711, 51.20030212402344, 51.06958770751953, 50.965126037597656, 50.86891174316406, 50.75807189941406, 55.285888671875, 55.27787780761719, 55.212501525878906, 55.093162536621094, 54.93935012817383, 54.77272415161133, 54.599449157714844, 54.41282653808594, 54.22734832763672, 54.04546356201172, 53.86427307128906, 53.686805725097656, 53.50920867919922, 53.332862854003906, 53.15614700317383, 52.98688888549805, 52.824562072753906, 52.676292419433594, 52.54956817626953, 52.42707824707031, 52.300148010253906, 52.166481018066406, 52.03190612792969, 51.90030288696289, 51.75965881347656, 51.620033264160156, 51.480525970458984, 51.34410858154297, 51.215126037597656, 51.10865020751953, 55.859901428222656, 55.77880859375, 55.62483596801758, 55.45929718017578, 55.290042877197266, 55.10972213745117, 54.926025390625, 54.74179458618164, 54.56122589111328, 54.3865966796875, 54.213478088378906, 54.04117202758789, 53.867671966552734, 53.70014953613281, 53.530662536621094, 53.364566802978516, 53.19614028930664, 53.03293228149414, 52.888465881347656, 52.7547607421875, 52.619895935058594, 52.482643127441406, 52.34455108642578, 52.21111297607422, 52.07499694824219, 51.93364334106445, 51.79766845703125, 51.665321350097656, 51.54878616333008, 51.447994232177734, 51.37544631958008, 56.16777801513672, 56.030982971191406, 55.884708404541016, 55.725494384765625, 55.5695915222168, 55.405433654785156, 55.24018478393555, 55.07572937011719, 54.912315368652344, 54.748294830322266, 54.57513427734375, 54.40791320800781, 54.23095703125, 54.05752944946289, 53.88080596923828, 53.70372009277344, 53.524234771728516, 53.36030578613281, 53.21234893798828, 53.07831573486328, 52.94526672363281, 52.80963134765625, 52.67070007324219, 52.53174591064453, 52.41150665283203, 52.31196975708008, 52.21784210205078, 52.11559295654297, 52.010250091552734, 51.90239715576172, 56.51161575317383, 56.36701965332031, 56.217193603515625, 56.06285858154297, 55.909698486328125, 55.74631118774414, 55.57394027709961, 55.40117263793945, 55.2292366027832, 55.05817413330078, 54.89305114746094, 54.72979736328125, 54.566261291503906, 54.40272521972656, 54.23725509643555, 54.072021484375, 53.90632247924805, 53.75421905517578, 53.615684509277344, 53.485023498535156, 53.34934997558594, 53.24089813232422, 53.13712692260742, 53.044273376464844, 52.955894470214844, 52.862762451171875, 52.760494232177734, 52.657588958740234, 52.553977966308594, 52.442962646484375, 52.3316650390625]}],\n",
              "                        {\"template\": {\"data\": {\"bar\": [{\"error_x\": {\"color\": \"#2a3f5f\"}, \"error_y\": {\"color\": \"#2a3f5f\"}, \"marker\": {\"line\": {\"color\": \"#E5ECF6\", \"width\": 0.5}}, \"type\": \"bar\"}], \"barpolar\": [{\"marker\": {\"line\": {\"color\": \"#E5ECF6\", \"width\": 0.5}}, \"type\": \"barpolar\"}], \"carpet\": [{\"aaxis\": {\"endlinecolor\": \"#2a3f5f\", \"gridcolor\": \"white\", \"linecolor\": \"white\", \"minorgridcolor\": \"white\", \"startlinecolor\": \"#2a3f5f\"}, \"baxis\": {\"endlinecolor\": \"#2a3f5f\", \"gridcolor\": \"white\", \"linecolor\": \"white\", \"minorgridcolor\": \"white\", \"startlinecolor\": \"#2a3f5f\"}, \"type\": \"carpet\"}], \"choropleth\": [{\"colorbar\": {\"outlinewidth\": 0, \"ticks\": \"\"}, \"type\": \"choropleth\"}], \"contour\": [{\"colorbar\": {\"outlinewidth\": 0, \"ticks\": \"\"}, \"colorscale\": [[0.0, \"#0d0887\"], [0.1111111111111111, \"#46039f\"], [0.2222222222222222, \"#7201a8\"], [0.3333333333333333, \"#9c179e\"], [0.4444444444444444, \"#bd3786\"], [0.5555555555555556, \"#d8576b\"], [0.6666666666666666, \"#ed7953\"], [0.7777777777777778, \"#fb9f3a\"], [0.8888888888888888, \"#fdca26\"], [1.0, \"#f0f921\"]], \"type\": \"contour\"}], \"contourcarpet\": [{\"colorbar\": {\"outlinewidth\": 0, \"ticks\": \"\"}, \"type\": \"contourcarpet\"}], \"heatmap\": [{\"colorbar\": {\"outlinewidth\": 0, \"ticks\": \"\"}, \"colorscale\": [[0.0, \"#0d0887\"], [0.1111111111111111, \"#46039f\"], [0.2222222222222222, \"#7201a8\"], [0.3333333333333333, \"#9c179e\"], [0.4444444444444444, \"#bd3786\"], [0.5555555555555556, \"#d8576b\"], [0.6666666666666666, \"#ed7953\"], [0.7777777777777778, \"#fb9f3a\"], [0.8888888888888888, \"#fdca26\"], [1.0, \"#f0f921\"]], \"type\": \"heatmap\"}], \"heatmapgl\": [{\"colorbar\": {\"outlinewidth\": 0, \"ticks\": \"\"}, \"colorscale\": [[0.0, \"#0d0887\"], [0.1111111111111111, \"#46039f\"], [0.2222222222222222, \"#7201a8\"], [0.3333333333333333, \"#9c179e\"], [0.4444444444444444, \"#bd3786\"], [0.5555555555555556, \"#d8576b\"], [0.6666666666666666, \"#ed7953\"], [0.7777777777777778, \"#fb9f3a\"], [0.8888888888888888, \"#fdca26\"], [1.0, \"#f0f921\"]], \"type\": \"heatmapgl\"}], \"histogram\": [{\"marker\": {\"colorbar\": {\"outlinewidth\": 0, \"ticks\": \"\"}}, \"type\": \"histogram\"}], \"histogram2d\": [{\"colorbar\": {\"outlinewidth\": 0, \"ticks\": \"\"}, \"colorscale\": [[0.0, \"#0d0887\"], [0.1111111111111111, \"#46039f\"], [0.2222222222222222, \"#7201a8\"], [0.3333333333333333, \"#9c179e\"], [0.4444444444444444, \"#bd3786\"], [0.5555555555555556, \"#d8576b\"], [0.6666666666666666, \"#ed7953\"], [0.7777777777777778, \"#fb9f3a\"], [0.8888888888888888, \"#fdca26\"], [1.0, \"#f0f921\"]], \"type\": \"histogram2d\"}], \"histogram2dcontour\": [{\"colorbar\": {\"outlinewidth\": 0, \"ticks\": \"\"}, \"colorscale\": [[0.0, \"#0d0887\"], [0.1111111111111111, \"#46039f\"], [0.2222222222222222, \"#7201a8\"], [0.3333333333333333, \"#9c179e\"], [0.4444444444444444, \"#bd3786\"], [0.5555555555555556, \"#d8576b\"], [0.6666666666666666, \"#ed7953\"], [0.7777777777777778, \"#fb9f3a\"], [0.8888888888888888, \"#fdca26\"], [1.0, \"#f0f921\"]], \"type\": \"histogram2dcontour\"}], \"mesh3d\": [{\"colorbar\": {\"outlinewidth\": 0, \"ticks\": \"\"}, \"type\": \"mesh3d\"}], \"parcoords\": [{\"line\": {\"colorbar\": {\"outlinewidth\": 0, \"ticks\": \"\"}}, \"type\": \"parcoords\"}], \"pie\": [{\"automargin\": true, \"type\": \"pie\"}], \"scatter\": [{\"marker\": {\"colorbar\": {\"outlinewidth\": 0, \"ticks\": \"\"}}, \"type\": \"scatter\"}], \"scatter3d\": [{\"line\": {\"colorbar\": {\"outlinewidth\": 0, \"ticks\": \"\"}}, \"marker\": {\"colorbar\": {\"outlinewidth\": 0, \"ticks\": \"\"}}, \"type\": \"scatter3d\"}], \"scattercarpet\": [{\"marker\": {\"colorbar\": {\"outlinewidth\": 0, \"ticks\": \"\"}}, \"type\": \"scattercarpet\"}], \"scattergeo\": [{\"marker\": {\"colorbar\": {\"outlinewidth\": 0, \"ticks\": \"\"}}, \"type\": \"scattergeo\"}], \"scattergl\": [{\"marker\": {\"colorbar\": {\"outlinewidth\": 0, \"ticks\": \"\"}}, \"type\": \"scattergl\"}], \"scattermapbox\": [{\"marker\": {\"colorbar\": {\"outlinewidth\": 0, \"ticks\": \"\"}}, \"type\": \"scattermapbox\"}], \"scatterpolar\": [{\"marker\": {\"colorbar\": {\"outlinewidth\": 0, \"ticks\": \"\"}}, \"type\": \"scatterpolar\"}], \"scatterpolargl\": [{\"marker\": {\"colorbar\": {\"outlinewidth\": 0, \"ticks\": \"\"}}, \"type\": \"scatterpolargl\"}], \"scatterternary\": [{\"marker\": {\"colorbar\": {\"outlinewidth\": 0, \"ticks\": \"\"}}, \"type\": \"scatterternary\"}], \"surface\": [{\"colorbar\": {\"outlinewidth\": 0, \"ticks\": \"\"}, \"colorscale\": [[0.0, \"#0d0887\"], [0.1111111111111111, \"#46039f\"], [0.2222222222222222, \"#7201a8\"], [0.3333333333333333, \"#9c179e\"], [0.4444444444444444, \"#bd3786\"], [0.5555555555555556, \"#d8576b\"], [0.6666666666666666, \"#ed7953\"], [0.7777777777777778, \"#fb9f3a\"], [0.8888888888888888, \"#fdca26\"], [1.0, \"#f0f921\"]], \"type\": \"surface\"}], \"table\": [{\"cells\": {\"fill\": {\"color\": \"#EBF0F8\"}, \"line\": {\"color\": \"white\"}}, \"header\": {\"fill\": {\"color\": \"#C8D4E3\"}, \"line\": {\"color\": \"white\"}}, \"type\": \"table\"}]}, \"layout\": {\"annotationdefaults\": {\"arrowcolor\": \"#2a3f5f\", \"arrowhead\": 0, \"arrowwidth\": 1}, \"coloraxis\": {\"colorbar\": {\"outlinewidth\": 0, \"ticks\": \"\"}}, \"colorscale\": {\"diverging\": [[0, \"#8e0152\"], [0.1, \"#c51b7d\"], [0.2, \"#de77ae\"], [0.3, \"#f1b6da\"], [0.4, \"#fde0ef\"], [0.5, \"#f7f7f7\"], [0.6, \"#e6f5d0\"], [0.7, \"#b8e186\"], [0.8, \"#7fbc41\"], [0.9, \"#4d9221\"], [1, \"#276419\"]], \"sequential\": [[0.0, \"#0d0887\"], [0.1111111111111111, \"#46039f\"], [0.2222222222222222, \"#7201a8\"], [0.3333333333333333, \"#9c179e\"], [0.4444444444444444, \"#bd3786\"], [0.5555555555555556, \"#d8576b\"], [0.6666666666666666, \"#ed7953\"], [0.7777777777777778, \"#fb9f3a\"], [0.8888888888888888, \"#fdca26\"], [1.0, \"#f0f921\"]], \"sequentialminus\": [[0.0, \"#0d0887\"], [0.1111111111111111, \"#46039f\"], [0.2222222222222222, \"#7201a8\"], [0.3333333333333333, \"#9c179e\"], [0.4444444444444444, \"#bd3786\"], [0.5555555555555556, \"#d8576b\"], [0.6666666666666666, \"#ed7953\"], [0.7777777777777778, \"#fb9f3a\"], [0.8888888888888888, \"#fdca26\"], [1.0, \"#f0f921\"]]}, \"colorway\": [\"#636efa\", \"#EF553B\", \"#00cc96\", \"#ab63fa\", \"#FFA15A\", \"#19d3f3\", \"#FF6692\", \"#B6E880\", \"#FF97FF\", \"#FECB52\"], \"font\": {\"color\": \"#2a3f5f\"}, \"geo\": {\"bgcolor\": \"white\", \"lakecolor\": \"white\", \"landcolor\": \"#E5ECF6\", \"showlakes\": true, \"showland\": true, \"subunitcolor\": \"white\"}, \"hoverlabel\": {\"align\": \"left\"}, \"hovermode\": \"closest\", \"mapbox\": {\"style\": \"light\"}, \"paper_bgcolor\": \"white\", \"plot_bgcolor\": \"#E5ECF6\", \"polar\": {\"angularaxis\": {\"gridcolor\": \"white\", \"linecolor\": \"white\", \"ticks\": \"\"}, \"bgcolor\": \"#E5ECF6\", \"radialaxis\": {\"gridcolor\": \"white\", \"linecolor\": \"white\", \"ticks\": \"\"}}, \"scene\": {\"xaxis\": {\"backgroundcolor\": \"#E5ECF6\", \"gridcolor\": \"white\", \"gridwidth\": 2, \"linecolor\": \"white\", \"showbackground\": true, \"ticks\": \"\", \"zerolinecolor\": \"white\"}, \"yaxis\": {\"backgroundcolor\": \"#E5ECF6\", \"gridcolor\": \"white\", \"gridwidth\": 2, \"linecolor\": \"white\", \"showbackground\": true, \"ticks\": \"\", \"zerolinecolor\": \"white\"}, \"zaxis\": {\"backgroundcolor\": \"#E5ECF6\", \"gridcolor\": \"white\", \"gridwidth\": 2, \"linecolor\": \"white\", \"showbackground\": true, \"ticks\": \"\", \"zerolinecolor\": \"white\"}}, \"shapedefaults\": {\"line\": {\"color\": \"#2a3f5f\"}}, \"ternary\": {\"aaxis\": {\"gridcolor\": \"white\", \"linecolor\": \"white\", \"ticks\": \"\"}, \"baxis\": {\"gridcolor\": \"white\", \"linecolor\": \"white\", \"ticks\": \"\"}, \"bgcolor\": \"#E5ECF6\", \"caxis\": {\"gridcolor\": \"white\", \"linecolor\": \"white\", \"ticks\": \"\"}}, \"title\": {\"x\": 0.05}, \"xaxis\": {\"automargin\": true, \"gridcolor\": \"white\", \"linecolor\": \"white\", \"ticks\": \"\", \"title\": {\"standoff\": 15}, \"zerolinecolor\": \"white\", \"zerolinewidth\": 2}, \"yaxis\": {\"automargin\": true, \"gridcolor\": \"white\", \"linecolor\": \"white\", \"ticks\": \"\", \"title\": {\"standoff\": 15}, \"zerolinecolor\": \"white\", \"zerolinewidth\": 2}}}, \"xaxis\": {\"title\": {\"text\": \"Day of the year\"}}, \"yaxis\": {\"title\": {\"text\": \"Predicted average daily temperature for 2022\"}}},\n",
              "                        {\"responsive\": true}\n",
              "                    ).then(function(){\n",
              "                            \n",
              "var gd = document.getElementById('eb796643-0f93-4bdc-a92d-02c91b422721');\n",
              "var x = new MutationObserver(function (mutations, observer) {{\n",
              "        var display = window.getComputedStyle(gd).display;\n",
              "        if (!display || display === 'none') {{\n",
              "            console.log([gd, 'removed!']);\n",
              "            Plotly.purge(gd);\n",
              "            observer.disconnect();\n",
              "        }}\n",
              "}});\n",
              "\n",
              "// Listen for the removal of the full notebook cells\n",
              "var notebookContainer = gd.closest('#notebook-container');\n",
              "if (notebookContainer) {{\n",
              "    x.observe(notebookContainer, {childList: true});\n",
              "}}\n",
              "\n",
              "// Listen for the clearing of the current output cell\n",
              "var outputEl = gd.closest('.output');\n",
              "if (outputEl) {{\n",
              "    x.observe(outputEl, {childList: true});\n",
              "}}\n",
              "\n",
              "                        })\n",
              "                };\n",
              "                \n",
              "            </script>\n",
              "        </div>\n",
              "</body>\n",
              "</html>"
            ]
          },
          "metadata": {}
        }
      ]
    },
    {
      "cell_type": "code",
      "source": [
        "from pyspark.sql import functions as F\n",
        "x1 = x.groupBy(\"month\").agg(F.mean('prediction')).orderBy('month')\n",
        "y1 = y.groupBy(\"month\").agg(F.mean('prediction')).orderBy('month')"
      ],
      "metadata": {
        "colab": {
          "base_uri": "https://localhost:8080/"
        },
        "id": "FBgyl16no_6_",
        "outputId": "8c483ac5-c8fd-4ea3-b60f-7bd8e52ca91e"
      },
      "execution_count": null,
      "outputs": [
        {
          "output_type": "stream",
          "name": "stdout",
          "text": [
            "+-----+------------------+\n",
            "|month|   avg(prediction)|\n",
            "+-----+------------------+\n",
            "|  1.0| 46.20814686436807|\n",
            "|  2.0| 47.55080836159842|\n",
            "|  3.0| 48.73073934739636|\n",
            "|  4.0| 49.86268259684245|\n",
            "|  5.0|50.861785642562374|\n",
            "|  6.0| 51.75015398661296|\n",
            "|  7.0|52.310770834645915|\n",
            "|  8.0|52.743963180049775|\n",
            "|  9.0| 53.19357401529948|\n",
            "| 10.0|53.478397123275265|\n",
            "| 11.0| 53.89062271118164|\n",
            "| 12.0| 54.22827665267452|\n",
            "+-----+------------------+\n",
            "\n"
          ]
        }
      ]
    },
    {
      "cell_type": "code",
      "source": [
        "fig = go.Figure(data=[\n",
        "    go.Bar(name='Monthly lockdowns', x=x1.select('month').toPandas()['month'].to_list(), y=x1.select('avg(prediction)').toPandas()['avg(prediction)'].to_list()),\n",
        "    go.Bar(name='No lockdowns', x=y1.select('month').toPandas()['month'].to_list(), y=y1.select('avg(prediction)').toPandas()['avg(prediction)'].to_list())\n",
        "])\n",
        "# Change the bar mode\n",
        "fig.update_layout(barmode='group')\n",
        "fig.update_layout(legend=dict(\n",
        "    orientation=\"h\",\n",
        "    yanchor=\"bottom\",\n",
        "    y=1.02,\n",
        "    xanchor=\"right\",\n",
        "    x=0.5\n",
        "))\n",
        "fig.update_xaxes(title_text=\"Month of the year\")\n",
        "fig.update_yaxes(title_text=\"Predicted average monthly temperatures for 2022\")\n",
        "fig.show()\n"
      ],
      "metadata": {
        "colab": {
          "base_uri": "https://localhost:8080/",
          "height": 542
        },
        "id": "O7Nd_YaC2kkL",
        "outputId": "211bb84d-dd18-4a7b-b550-31cb62479e5f"
      },
      "execution_count": null,
      "outputs": [
        {
          "output_type": "display_data",
          "data": {
            "text/html": [
              "<html>\n",
              "<head><meta charset=\"utf-8\" /></head>\n",
              "<body>\n",
              "    <div>\n",
              "            <script src=\"https://cdnjs.cloudflare.com/ajax/libs/mathjax/2.7.5/MathJax.js?config=TeX-AMS-MML_SVG\"></script><script type=\"text/javascript\">if (window.MathJax) {MathJax.Hub.Config({SVG: {font: \"STIX-Web\"}});}</script>\n",
              "                <script type=\"text/javascript\">window.PlotlyConfig = {MathJaxConfig: 'local'};</script>\n",
              "        <script src=\"https://cdn.plot.ly/plotly-latest.min.js\"></script>    \n",
              "            <div id=\"378ad315-735a-46ce-99e0-998360be1e8d\" class=\"plotly-graph-div\" style=\"height:525px; width:100%;\"></div>\n",
              "            <script type=\"text/javascript\">\n",
              "                \n",
              "                    window.PLOTLYENV=window.PLOTLYENV || {};\n",
              "                    \n",
              "                if (document.getElementById(\"378ad315-735a-46ce-99e0-998360be1e8d\")) {\n",
              "                    Plotly.newPlot(\n",
              "                        '378ad315-735a-46ce-99e0-998360be1e8d',\n",
              "                        [{\"name\": \"Monthly lockdowns\", \"type\": \"bar\", \"x\": [1.0, 2.0, 3.0, 4.0, 5.0, 6.0, 7.0, 8.0, 9.0, 10.0, 11.0, 12.0], \"y\": [43.75265466013262, 44.97428103855678, 45.89018138762443, 46.84931983947754, 47.59647861603768, 48.34144528706869, 48.79958109701833, 49.222769952589466, 49.68293851216634, 50.072374405399444, 50.596100362141925, 51.07355363907352]}, {\"name\": \"No lockdowns\", \"type\": \"bar\", \"x\": [1.0, 2.0, 3.0, 4.0, 5.0, 6.0, 7.0, 8.0, 9.0, 10.0, 11.0, 12.0], \"y\": [46.20814686436807, 47.55080836159842, 48.73073934739636, 49.86268259684245, 50.861785642562374, 51.75015398661296, 52.310770834645915, 52.743963180049775, 53.19357401529948, 53.478397123275265, 53.89062271118164, 54.22827665267452]}],\n",
              "                        {\"barmode\": \"group\", \"legend\": {\"orientation\": \"h\", \"x\": 0.5, \"xanchor\": \"right\", \"y\": 1.02, \"yanchor\": \"bottom\"}, \"template\": {\"data\": {\"bar\": [{\"error_x\": {\"color\": \"#2a3f5f\"}, \"error_y\": {\"color\": \"#2a3f5f\"}, \"marker\": {\"line\": {\"color\": \"#E5ECF6\", \"width\": 0.5}}, \"type\": \"bar\"}], \"barpolar\": [{\"marker\": {\"line\": {\"color\": \"#E5ECF6\", \"width\": 0.5}}, \"type\": \"barpolar\"}], \"carpet\": [{\"aaxis\": {\"endlinecolor\": \"#2a3f5f\", \"gridcolor\": \"white\", \"linecolor\": \"white\", \"minorgridcolor\": \"white\", \"startlinecolor\": \"#2a3f5f\"}, \"baxis\": {\"endlinecolor\": \"#2a3f5f\", \"gridcolor\": \"white\", \"linecolor\": \"white\", \"minorgridcolor\": \"white\", \"startlinecolor\": \"#2a3f5f\"}, \"type\": \"carpet\"}], \"choropleth\": [{\"colorbar\": {\"outlinewidth\": 0, \"ticks\": \"\"}, \"type\": \"choropleth\"}], \"contour\": [{\"colorbar\": {\"outlinewidth\": 0, \"ticks\": \"\"}, \"colorscale\": [[0.0, \"#0d0887\"], [0.1111111111111111, \"#46039f\"], [0.2222222222222222, \"#7201a8\"], [0.3333333333333333, \"#9c179e\"], [0.4444444444444444, \"#bd3786\"], [0.5555555555555556, \"#d8576b\"], [0.6666666666666666, \"#ed7953\"], [0.7777777777777778, \"#fb9f3a\"], [0.8888888888888888, \"#fdca26\"], [1.0, \"#f0f921\"]], \"type\": \"contour\"}], \"contourcarpet\": [{\"colorbar\": {\"outlinewidth\": 0, \"ticks\": \"\"}, \"type\": \"contourcarpet\"}], \"heatmap\": [{\"colorbar\": {\"outlinewidth\": 0, \"ticks\": \"\"}, \"colorscale\": [[0.0, \"#0d0887\"], [0.1111111111111111, \"#46039f\"], [0.2222222222222222, \"#7201a8\"], [0.3333333333333333, \"#9c179e\"], [0.4444444444444444, \"#bd3786\"], [0.5555555555555556, \"#d8576b\"], [0.6666666666666666, \"#ed7953\"], [0.7777777777777778, \"#fb9f3a\"], [0.8888888888888888, \"#fdca26\"], [1.0, \"#f0f921\"]], \"type\": \"heatmap\"}], \"heatmapgl\": [{\"colorbar\": {\"outlinewidth\": 0, \"ticks\": \"\"}, \"colorscale\": [[0.0, \"#0d0887\"], [0.1111111111111111, \"#46039f\"], [0.2222222222222222, \"#7201a8\"], [0.3333333333333333, \"#9c179e\"], [0.4444444444444444, \"#bd3786\"], [0.5555555555555556, \"#d8576b\"], [0.6666666666666666, \"#ed7953\"], [0.7777777777777778, \"#fb9f3a\"], [0.8888888888888888, \"#fdca26\"], [1.0, \"#f0f921\"]], \"type\": \"heatmapgl\"}], \"histogram\": [{\"marker\": {\"colorbar\": {\"outlinewidth\": 0, \"ticks\": \"\"}}, \"type\": \"histogram\"}], \"histogram2d\": [{\"colorbar\": {\"outlinewidth\": 0, \"ticks\": \"\"}, \"colorscale\": [[0.0, \"#0d0887\"], [0.1111111111111111, \"#46039f\"], [0.2222222222222222, \"#7201a8\"], [0.3333333333333333, \"#9c179e\"], [0.4444444444444444, \"#bd3786\"], [0.5555555555555556, \"#d8576b\"], [0.6666666666666666, \"#ed7953\"], [0.7777777777777778, \"#fb9f3a\"], [0.8888888888888888, \"#fdca26\"], [1.0, \"#f0f921\"]], \"type\": \"histogram2d\"}], \"histogram2dcontour\": [{\"colorbar\": {\"outlinewidth\": 0, \"ticks\": \"\"}, \"colorscale\": [[0.0, \"#0d0887\"], [0.1111111111111111, \"#46039f\"], [0.2222222222222222, \"#7201a8\"], [0.3333333333333333, \"#9c179e\"], [0.4444444444444444, \"#bd3786\"], [0.5555555555555556, \"#d8576b\"], [0.6666666666666666, \"#ed7953\"], [0.7777777777777778, \"#fb9f3a\"], [0.8888888888888888, \"#fdca26\"], [1.0, \"#f0f921\"]], \"type\": \"histogram2dcontour\"}], \"mesh3d\": [{\"colorbar\": {\"outlinewidth\": 0, \"ticks\": \"\"}, \"type\": \"mesh3d\"}], \"parcoords\": [{\"line\": {\"colorbar\": {\"outlinewidth\": 0, \"ticks\": \"\"}}, \"type\": \"parcoords\"}], \"pie\": [{\"automargin\": true, \"type\": \"pie\"}], \"scatter\": [{\"marker\": {\"colorbar\": {\"outlinewidth\": 0, \"ticks\": \"\"}}, \"type\": \"scatter\"}], \"scatter3d\": [{\"line\": {\"colorbar\": {\"outlinewidth\": 0, \"ticks\": \"\"}}, \"marker\": {\"colorbar\": {\"outlinewidth\": 0, \"ticks\": \"\"}}, \"type\": \"scatter3d\"}], \"scattercarpet\": [{\"marker\": {\"colorbar\": {\"outlinewidth\": 0, \"ticks\": \"\"}}, \"type\": \"scattercarpet\"}], \"scattergeo\": [{\"marker\": {\"colorbar\": {\"outlinewidth\": 0, \"ticks\": \"\"}}, \"type\": \"scattergeo\"}], \"scattergl\": [{\"marker\": {\"colorbar\": {\"outlinewidth\": 0, \"ticks\": \"\"}}, \"type\": \"scattergl\"}], \"scattermapbox\": [{\"marker\": {\"colorbar\": {\"outlinewidth\": 0, \"ticks\": \"\"}}, \"type\": \"scattermapbox\"}], \"scatterpolar\": [{\"marker\": {\"colorbar\": {\"outlinewidth\": 0, \"ticks\": \"\"}}, \"type\": \"scatterpolar\"}], \"scatterpolargl\": [{\"marker\": {\"colorbar\": {\"outlinewidth\": 0, \"ticks\": \"\"}}, \"type\": \"scatterpolargl\"}], \"scatterternary\": [{\"marker\": {\"colorbar\": {\"outlinewidth\": 0, \"ticks\": \"\"}}, \"type\": \"scatterternary\"}], \"surface\": [{\"colorbar\": {\"outlinewidth\": 0, \"ticks\": \"\"}, \"colorscale\": [[0.0, \"#0d0887\"], [0.1111111111111111, \"#46039f\"], [0.2222222222222222, \"#7201a8\"], [0.3333333333333333, \"#9c179e\"], [0.4444444444444444, \"#bd3786\"], [0.5555555555555556, \"#d8576b\"], [0.6666666666666666, \"#ed7953\"], [0.7777777777777778, \"#fb9f3a\"], [0.8888888888888888, \"#fdca26\"], [1.0, \"#f0f921\"]], \"type\": \"surface\"}], \"table\": [{\"cells\": {\"fill\": {\"color\": \"#EBF0F8\"}, \"line\": {\"color\": \"white\"}}, \"header\": {\"fill\": {\"color\": \"#C8D4E3\"}, \"line\": {\"color\": \"white\"}}, \"type\": \"table\"}]}, \"layout\": {\"annotationdefaults\": {\"arrowcolor\": \"#2a3f5f\", \"arrowhead\": 0, \"arrowwidth\": 1}, \"coloraxis\": {\"colorbar\": {\"outlinewidth\": 0, \"ticks\": \"\"}}, \"colorscale\": {\"diverging\": [[0, \"#8e0152\"], [0.1, \"#c51b7d\"], [0.2, \"#de77ae\"], [0.3, \"#f1b6da\"], [0.4, \"#fde0ef\"], [0.5, \"#f7f7f7\"], [0.6, \"#e6f5d0\"], [0.7, \"#b8e186\"], [0.8, \"#7fbc41\"], [0.9, \"#4d9221\"], [1, \"#276419\"]], \"sequential\": [[0.0, \"#0d0887\"], [0.1111111111111111, \"#46039f\"], [0.2222222222222222, \"#7201a8\"], [0.3333333333333333, \"#9c179e\"], [0.4444444444444444, \"#bd3786\"], [0.5555555555555556, \"#d8576b\"], [0.6666666666666666, \"#ed7953\"], [0.7777777777777778, \"#fb9f3a\"], [0.8888888888888888, \"#fdca26\"], [1.0, \"#f0f921\"]], \"sequentialminus\": [[0.0, \"#0d0887\"], [0.1111111111111111, \"#46039f\"], [0.2222222222222222, \"#7201a8\"], [0.3333333333333333, \"#9c179e\"], [0.4444444444444444, \"#bd3786\"], [0.5555555555555556, \"#d8576b\"], [0.6666666666666666, \"#ed7953\"], [0.7777777777777778, \"#fb9f3a\"], [0.8888888888888888, \"#fdca26\"], [1.0, \"#f0f921\"]]}, \"colorway\": [\"#636efa\", \"#EF553B\", \"#00cc96\", \"#ab63fa\", \"#FFA15A\", \"#19d3f3\", \"#FF6692\", \"#B6E880\", \"#FF97FF\", \"#FECB52\"], \"font\": {\"color\": \"#2a3f5f\"}, \"geo\": {\"bgcolor\": \"white\", \"lakecolor\": \"white\", \"landcolor\": \"#E5ECF6\", \"showlakes\": true, \"showland\": true, \"subunitcolor\": \"white\"}, \"hoverlabel\": {\"align\": \"left\"}, \"hovermode\": \"closest\", \"mapbox\": {\"style\": \"light\"}, \"paper_bgcolor\": \"white\", \"plot_bgcolor\": \"#E5ECF6\", \"polar\": {\"angularaxis\": {\"gridcolor\": \"white\", \"linecolor\": \"white\", \"ticks\": \"\"}, \"bgcolor\": \"#E5ECF6\", \"radialaxis\": {\"gridcolor\": \"white\", \"linecolor\": \"white\", \"ticks\": \"\"}}, \"scene\": {\"xaxis\": {\"backgroundcolor\": \"#E5ECF6\", \"gridcolor\": \"white\", \"gridwidth\": 2, \"linecolor\": \"white\", \"showbackground\": true, \"ticks\": \"\", \"zerolinecolor\": \"white\"}, \"yaxis\": {\"backgroundcolor\": \"#E5ECF6\", \"gridcolor\": \"white\", \"gridwidth\": 2, \"linecolor\": \"white\", \"showbackground\": true, \"ticks\": \"\", \"zerolinecolor\": \"white\"}, \"zaxis\": {\"backgroundcolor\": \"#E5ECF6\", \"gridcolor\": \"white\", \"gridwidth\": 2, \"linecolor\": \"white\", \"showbackground\": true, \"ticks\": \"\", \"zerolinecolor\": \"white\"}}, \"shapedefaults\": {\"line\": {\"color\": \"#2a3f5f\"}}, \"ternary\": {\"aaxis\": {\"gridcolor\": \"white\", \"linecolor\": \"white\", \"ticks\": \"\"}, \"baxis\": {\"gridcolor\": \"white\", \"linecolor\": \"white\", \"ticks\": \"\"}, \"bgcolor\": \"#E5ECF6\", \"caxis\": {\"gridcolor\": \"white\", \"linecolor\": \"white\", \"ticks\": \"\"}}, \"title\": {\"x\": 0.05}, \"xaxis\": {\"automargin\": true, \"gridcolor\": \"white\", \"linecolor\": \"white\", \"ticks\": \"\", \"title\": {\"standoff\": 15}, \"zerolinecolor\": \"white\", \"zerolinewidth\": 2}, \"yaxis\": {\"automargin\": true, \"gridcolor\": \"white\", \"linecolor\": \"white\", \"ticks\": \"\", \"title\": {\"standoff\": 15}, \"zerolinecolor\": \"white\", \"zerolinewidth\": 2}}}, \"xaxis\": {\"title\": {\"text\": \"Month of the year\"}}, \"yaxis\": {\"title\": {\"text\": \"Predicted average monthly temperatures for 2022\"}}},\n",
              "                        {\"responsive\": true}\n",
              "                    ).then(function(){\n",
              "                            \n",
              "var gd = document.getElementById('378ad315-735a-46ce-99e0-998360be1e8d');\n",
              "var x = new MutationObserver(function (mutations, observer) {{\n",
              "        var display = window.getComputedStyle(gd).display;\n",
              "        if (!display || display === 'none') {{\n",
              "            console.log([gd, 'removed!']);\n",
              "            Plotly.purge(gd);\n",
              "            observer.disconnect();\n",
              "        }}\n",
              "}});\n",
              "\n",
              "// Listen for the removal of the full notebook cells\n",
              "var notebookContainer = gd.closest('#notebook-container');\n",
              "if (notebookContainer) {{\n",
              "    x.observe(notebookContainer, {childList: true});\n",
              "}}\n",
              "\n",
              "// Listen for the clearing of the current output cell\n",
              "var outputEl = gd.closest('.output');\n",
              "if (outputEl) {{\n",
              "    x.observe(outputEl, {childList: true});\n",
              "}}\n",
              "\n",
              "                        })\n",
              "                };\n",
              "                \n",
              "            </script>\n",
              "        </div>\n",
              "</body>\n",
              "</html>"
            ]
          },
          "metadata": {}
        }
      ]
    },
    {
      "cell_type": "code",
      "source": [
        ""
      ],
      "metadata": {
        "id": "-E-KrK2l5AB9"
      },
      "execution_count": null,
      "outputs": []
    }
  ]
}